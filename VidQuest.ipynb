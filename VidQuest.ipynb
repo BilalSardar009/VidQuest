{
  "nbformat": 4,
  "nbformat_minor": 0,
  "metadata": {
    "colab": {
      "provenance": [],
      "collapsed_sections": [
        "l2lX_2_0hx4F",
        "BqScMUbg7LEM",
        "AYXt9QDWK7Bk"
      ]
    },
    "kernelspec": {
      "name": "python3",
      "display_name": "Python 3"
    },
    "language_info": {
      "name": "python"
    },
    "widgets": {
      "application/vnd.jupyter.widget-state+json": {
        "09e6fdd00f6140a2b8bddcb73991226e": {
          "model_module": "@jupyter-widgets/controls",
          "model_name": "HBoxModel",
          "model_module_version": "1.5.0",
          "state": {
            "_dom_classes": [],
            "_model_module": "@jupyter-widgets/controls",
            "_model_module_version": "1.5.0",
            "_model_name": "HBoxModel",
            "_view_count": null,
            "_view_module": "@jupyter-widgets/controls",
            "_view_module_version": "1.5.0",
            "_view_name": "HBoxView",
            "box_style": "",
            "children": [
              "IPY_MODEL_ce603e45793b4db6a2ed6b06bafabb78",
              "IPY_MODEL_a908678cd7ac4b7e812612cf9096866a",
              "IPY_MODEL_56e633b77dd74653849184cd6f79beac"
            ],
            "layout": "IPY_MODEL_5fa443086d804c86872c84f4c5c2d76c"
          }
        },
        "ce603e45793b4db6a2ed6b06bafabb78": {
          "model_module": "@jupyter-widgets/controls",
          "model_name": "HTMLModel",
          "model_module_version": "1.5.0",
          "state": {
            "_dom_classes": [],
            "_model_module": "@jupyter-widgets/controls",
            "_model_module_version": "1.5.0",
            "_model_name": "HTMLModel",
            "_view_count": null,
            "_view_module": "@jupyter-widgets/controls",
            "_view_module_version": "1.5.0",
            "_view_name": "HTMLView",
            "description": "",
            "description_tooltip": null,
            "layout": "IPY_MODEL_d8e38a1add2f482c90cd66311c09d170",
            "placeholder": "​",
            "style": "IPY_MODEL_6128d1f827f64df19805308d7ddaeb13",
            "value": "Downloading: 100%"
          }
        },
        "a908678cd7ac4b7e812612cf9096866a": {
          "model_module": "@jupyter-widgets/controls",
          "model_name": "FloatProgressModel",
          "model_module_version": "1.5.0",
          "state": {
            "_dom_classes": [],
            "_model_module": "@jupyter-widgets/controls",
            "_model_module_version": "1.5.0",
            "_model_name": "FloatProgressModel",
            "_view_count": null,
            "_view_module": "@jupyter-widgets/controls",
            "_view_module_version": "1.5.0",
            "_view_name": "ProgressView",
            "bar_style": "success",
            "description": "",
            "description_tooltip": null,
            "layout": "IPY_MODEL_1123b8c94eef43d1a0dd5f810f32f07b",
            "max": 1199,
            "min": 0,
            "orientation": "horizontal",
            "style": "IPY_MODEL_acaae25d6e074e91bb39df36839c91dd",
            "value": 1199
          }
        },
        "56e633b77dd74653849184cd6f79beac": {
          "model_module": "@jupyter-widgets/controls",
          "model_name": "HTMLModel",
          "model_module_version": "1.5.0",
          "state": {
            "_dom_classes": [],
            "_model_module": "@jupyter-widgets/controls",
            "_model_module_version": "1.5.0",
            "_model_name": "HTMLModel",
            "_view_count": null,
            "_view_module": "@jupyter-widgets/controls",
            "_view_module_version": "1.5.0",
            "_view_name": "HTMLView",
            "description": "",
            "description_tooltip": null,
            "layout": "IPY_MODEL_5c4b5bb1b09345ed9127d22ff12099fb",
            "placeholder": "​",
            "style": "IPY_MODEL_430798488a1b4a2f93abbae9939e72f9",
            "value": " 1.20k/1.20k [00:00&lt;00:00, 25.6kB/s]"
          }
        },
        "5fa443086d804c86872c84f4c5c2d76c": {
          "model_module": "@jupyter-widgets/base",
          "model_name": "LayoutModel",
          "model_module_version": "1.2.0",
          "state": {
            "_model_module": "@jupyter-widgets/base",
            "_model_module_version": "1.2.0",
            "_model_name": "LayoutModel",
            "_view_count": null,
            "_view_module": "@jupyter-widgets/base",
            "_view_module_version": "1.2.0",
            "_view_name": "LayoutView",
            "align_content": null,
            "align_items": null,
            "align_self": null,
            "border": null,
            "bottom": null,
            "display": null,
            "flex": null,
            "flex_flow": null,
            "grid_area": null,
            "grid_auto_columns": null,
            "grid_auto_flow": null,
            "grid_auto_rows": null,
            "grid_column": null,
            "grid_gap": null,
            "grid_row": null,
            "grid_template_areas": null,
            "grid_template_columns": null,
            "grid_template_rows": null,
            "height": null,
            "justify_content": null,
            "justify_items": null,
            "left": null,
            "margin": null,
            "max_height": null,
            "max_width": null,
            "min_height": null,
            "min_width": null,
            "object_fit": null,
            "object_position": null,
            "order": null,
            "overflow": null,
            "overflow_x": null,
            "overflow_y": null,
            "padding": null,
            "right": null,
            "top": null,
            "visibility": null,
            "width": null
          }
        },
        "d8e38a1add2f482c90cd66311c09d170": {
          "model_module": "@jupyter-widgets/base",
          "model_name": "LayoutModel",
          "model_module_version": "1.2.0",
          "state": {
            "_model_module": "@jupyter-widgets/base",
            "_model_module_version": "1.2.0",
            "_model_name": "LayoutModel",
            "_view_count": null,
            "_view_module": "@jupyter-widgets/base",
            "_view_module_version": "1.2.0",
            "_view_name": "LayoutView",
            "align_content": null,
            "align_items": null,
            "align_self": null,
            "border": null,
            "bottom": null,
            "display": null,
            "flex": null,
            "flex_flow": null,
            "grid_area": null,
            "grid_auto_columns": null,
            "grid_auto_flow": null,
            "grid_auto_rows": null,
            "grid_column": null,
            "grid_gap": null,
            "grid_row": null,
            "grid_template_areas": null,
            "grid_template_columns": null,
            "grid_template_rows": null,
            "height": null,
            "justify_content": null,
            "justify_items": null,
            "left": null,
            "margin": null,
            "max_height": null,
            "max_width": null,
            "min_height": null,
            "min_width": null,
            "object_fit": null,
            "object_position": null,
            "order": null,
            "overflow": null,
            "overflow_x": null,
            "overflow_y": null,
            "padding": null,
            "right": null,
            "top": null,
            "visibility": null,
            "width": null
          }
        },
        "6128d1f827f64df19805308d7ddaeb13": {
          "model_module": "@jupyter-widgets/controls",
          "model_name": "DescriptionStyleModel",
          "model_module_version": "1.5.0",
          "state": {
            "_model_module": "@jupyter-widgets/controls",
            "_model_module_version": "1.5.0",
            "_model_name": "DescriptionStyleModel",
            "_view_count": null,
            "_view_module": "@jupyter-widgets/base",
            "_view_module_version": "1.2.0",
            "_view_name": "StyleView",
            "description_width": ""
          }
        },
        "1123b8c94eef43d1a0dd5f810f32f07b": {
          "model_module": "@jupyter-widgets/base",
          "model_name": "LayoutModel",
          "model_module_version": "1.2.0",
          "state": {
            "_model_module": "@jupyter-widgets/base",
            "_model_module_version": "1.2.0",
            "_model_name": "LayoutModel",
            "_view_count": null,
            "_view_module": "@jupyter-widgets/base",
            "_view_module_version": "1.2.0",
            "_view_name": "LayoutView",
            "align_content": null,
            "align_items": null,
            "align_self": null,
            "border": null,
            "bottom": null,
            "display": null,
            "flex": null,
            "flex_flow": null,
            "grid_area": null,
            "grid_auto_columns": null,
            "grid_auto_flow": null,
            "grid_auto_rows": null,
            "grid_column": null,
            "grid_gap": null,
            "grid_row": null,
            "grid_template_areas": null,
            "grid_template_columns": null,
            "grid_template_rows": null,
            "height": null,
            "justify_content": null,
            "justify_items": null,
            "left": null,
            "margin": null,
            "max_height": null,
            "max_width": null,
            "min_height": null,
            "min_width": null,
            "object_fit": null,
            "object_position": null,
            "order": null,
            "overflow": null,
            "overflow_x": null,
            "overflow_y": null,
            "padding": null,
            "right": null,
            "top": null,
            "visibility": null,
            "width": null
          }
        },
        "acaae25d6e074e91bb39df36839c91dd": {
          "model_module": "@jupyter-widgets/controls",
          "model_name": "ProgressStyleModel",
          "model_module_version": "1.5.0",
          "state": {
            "_model_module": "@jupyter-widgets/controls",
            "_model_module_version": "1.5.0",
            "_model_name": "ProgressStyleModel",
            "_view_count": null,
            "_view_module": "@jupyter-widgets/base",
            "_view_module_version": "1.2.0",
            "_view_name": "StyleView",
            "bar_color": null,
            "description_width": ""
          }
        },
        "5c4b5bb1b09345ed9127d22ff12099fb": {
          "model_module": "@jupyter-widgets/base",
          "model_name": "LayoutModel",
          "model_module_version": "1.2.0",
          "state": {
            "_model_module": "@jupyter-widgets/base",
            "_model_module_version": "1.2.0",
            "_model_name": "LayoutModel",
            "_view_count": null,
            "_view_module": "@jupyter-widgets/base",
            "_view_module_version": "1.2.0",
            "_view_name": "LayoutView",
            "align_content": null,
            "align_items": null,
            "align_self": null,
            "border": null,
            "bottom": null,
            "display": null,
            "flex": null,
            "flex_flow": null,
            "grid_area": null,
            "grid_auto_columns": null,
            "grid_auto_flow": null,
            "grid_auto_rows": null,
            "grid_column": null,
            "grid_gap": null,
            "grid_row": null,
            "grid_template_areas": null,
            "grid_template_columns": null,
            "grid_template_rows": null,
            "height": null,
            "justify_content": null,
            "justify_items": null,
            "left": null,
            "margin": null,
            "max_height": null,
            "max_width": null,
            "min_height": null,
            "min_width": null,
            "object_fit": null,
            "object_position": null,
            "order": null,
            "overflow": null,
            "overflow_x": null,
            "overflow_y": null,
            "padding": null,
            "right": null,
            "top": null,
            "visibility": null,
            "width": null
          }
        },
        "430798488a1b4a2f93abbae9939e72f9": {
          "model_module": "@jupyter-widgets/controls",
          "model_name": "DescriptionStyleModel",
          "model_module_version": "1.5.0",
          "state": {
            "_model_module": "@jupyter-widgets/controls",
            "_model_module_version": "1.5.0",
            "_model_name": "DescriptionStyleModel",
            "_view_count": null,
            "_view_module": "@jupyter-widgets/base",
            "_view_module_version": "1.2.0",
            "_view_name": "StyleView",
            "description_width": ""
          }
        },
        "cf8106ef434f482f89ffb38d1935aa04": {
          "model_module": "@jupyter-widgets/controls",
          "model_name": "HBoxModel",
          "model_module_version": "1.5.0",
          "state": {
            "_dom_classes": [],
            "_model_module": "@jupyter-widgets/controls",
            "_model_module_version": "1.5.0",
            "_model_name": "HBoxModel",
            "_view_count": null,
            "_view_module": "@jupyter-widgets/controls",
            "_view_module_version": "1.5.0",
            "_view_name": "HBoxView",
            "box_style": "",
            "children": [
              "IPY_MODEL_c335eddcf24643e694da9b540aafabbb",
              "IPY_MODEL_88cfe238169843da81341ccf57626234",
              "IPY_MODEL_48deff63264846acb2d6c43e072b9afc"
            ],
            "layout": "IPY_MODEL_be9f14ad124d43bbb2e05a14aea85ffc"
          }
        },
        "c335eddcf24643e694da9b540aafabbb": {
          "model_module": "@jupyter-widgets/controls",
          "model_name": "HTMLModel",
          "model_module_version": "1.5.0",
          "state": {
            "_dom_classes": [],
            "_model_module": "@jupyter-widgets/controls",
            "_model_module_version": "1.5.0",
            "_model_name": "HTMLModel",
            "_view_count": null,
            "_view_module": "@jupyter-widgets/controls",
            "_view_module_version": "1.5.0",
            "_view_name": "HTMLView",
            "description": "",
            "description_tooltip": null,
            "layout": "IPY_MODEL_cb3ff89977c3441e8d2ca629d2eb588d",
            "placeholder": "​",
            "style": "IPY_MODEL_f08fde815e59434884afb4d298002519",
            "value": "Downloading: 100%"
          }
        },
        "88cfe238169843da81341ccf57626234": {
          "model_module": "@jupyter-widgets/controls",
          "model_name": "FloatProgressModel",
          "model_module_version": "1.5.0",
          "state": {
            "_dom_classes": [],
            "_model_module": "@jupyter-widgets/controls",
            "_model_module_version": "1.5.0",
            "_model_name": "FloatProgressModel",
            "_view_count": null,
            "_view_module": "@jupyter-widgets/controls",
            "_view_module_version": "1.5.0",
            "_view_name": "ProgressView",
            "bar_style": "success",
            "description": "",
            "description_tooltip": null,
            "layout": "IPY_MODEL_98e0f66e57784337991f920340569413",
            "max": 891691430,
            "min": 0,
            "orientation": "horizontal",
            "style": "IPY_MODEL_3d4edc2ed75f46318211254c50d98139",
            "value": 891691430
          }
        },
        "48deff63264846acb2d6c43e072b9afc": {
          "model_module": "@jupyter-widgets/controls",
          "model_name": "HTMLModel",
          "model_module_version": "1.5.0",
          "state": {
            "_dom_classes": [],
            "_model_module": "@jupyter-widgets/controls",
            "_model_module_version": "1.5.0",
            "_model_name": "HTMLModel",
            "_view_count": null,
            "_view_module": "@jupyter-widgets/controls",
            "_view_module_version": "1.5.0",
            "_view_name": "HTMLView",
            "description": "",
            "description_tooltip": null,
            "layout": "IPY_MODEL_93ecaa500d334ea2b2705aad16ab5117",
            "placeholder": "​",
            "style": "IPY_MODEL_c352690e5d3c44709bf4cb69c177c0d8",
            "value": " 892M/892M [00:27&lt;00:00, 25.4MB/s]"
          }
        },
        "be9f14ad124d43bbb2e05a14aea85ffc": {
          "model_module": "@jupyter-widgets/base",
          "model_name": "LayoutModel",
          "model_module_version": "1.2.0",
          "state": {
            "_model_module": "@jupyter-widgets/base",
            "_model_module_version": "1.2.0",
            "_model_name": "LayoutModel",
            "_view_count": null,
            "_view_module": "@jupyter-widgets/base",
            "_view_module_version": "1.2.0",
            "_view_name": "LayoutView",
            "align_content": null,
            "align_items": null,
            "align_self": null,
            "border": null,
            "bottom": null,
            "display": null,
            "flex": null,
            "flex_flow": null,
            "grid_area": null,
            "grid_auto_columns": null,
            "grid_auto_flow": null,
            "grid_auto_rows": null,
            "grid_column": null,
            "grid_gap": null,
            "grid_row": null,
            "grid_template_areas": null,
            "grid_template_columns": null,
            "grid_template_rows": null,
            "height": null,
            "justify_content": null,
            "justify_items": null,
            "left": null,
            "margin": null,
            "max_height": null,
            "max_width": null,
            "min_height": null,
            "min_width": null,
            "object_fit": null,
            "object_position": null,
            "order": null,
            "overflow": null,
            "overflow_x": null,
            "overflow_y": null,
            "padding": null,
            "right": null,
            "top": null,
            "visibility": null,
            "width": null
          }
        },
        "cb3ff89977c3441e8d2ca629d2eb588d": {
          "model_module": "@jupyter-widgets/base",
          "model_name": "LayoutModel",
          "model_module_version": "1.2.0",
          "state": {
            "_model_module": "@jupyter-widgets/base",
            "_model_module_version": "1.2.0",
            "_model_name": "LayoutModel",
            "_view_count": null,
            "_view_module": "@jupyter-widgets/base",
            "_view_module_version": "1.2.0",
            "_view_name": "LayoutView",
            "align_content": null,
            "align_items": null,
            "align_self": null,
            "border": null,
            "bottom": null,
            "display": null,
            "flex": null,
            "flex_flow": null,
            "grid_area": null,
            "grid_auto_columns": null,
            "grid_auto_flow": null,
            "grid_auto_rows": null,
            "grid_column": null,
            "grid_gap": null,
            "grid_row": null,
            "grid_template_areas": null,
            "grid_template_columns": null,
            "grid_template_rows": null,
            "height": null,
            "justify_content": null,
            "justify_items": null,
            "left": null,
            "margin": null,
            "max_height": null,
            "max_width": null,
            "min_height": null,
            "min_width": null,
            "object_fit": null,
            "object_position": null,
            "order": null,
            "overflow": null,
            "overflow_x": null,
            "overflow_y": null,
            "padding": null,
            "right": null,
            "top": null,
            "visibility": null,
            "width": null
          }
        },
        "f08fde815e59434884afb4d298002519": {
          "model_module": "@jupyter-widgets/controls",
          "model_name": "DescriptionStyleModel",
          "model_module_version": "1.5.0",
          "state": {
            "_model_module": "@jupyter-widgets/controls",
            "_model_module_version": "1.5.0",
            "_model_name": "DescriptionStyleModel",
            "_view_count": null,
            "_view_module": "@jupyter-widgets/base",
            "_view_module_version": "1.2.0",
            "_view_name": "StyleView",
            "description_width": ""
          }
        },
        "98e0f66e57784337991f920340569413": {
          "model_module": "@jupyter-widgets/base",
          "model_name": "LayoutModel",
          "model_module_version": "1.2.0",
          "state": {
            "_model_module": "@jupyter-widgets/base",
            "_model_module_version": "1.2.0",
            "_model_name": "LayoutModel",
            "_view_count": null,
            "_view_module": "@jupyter-widgets/base",
            "_view_module_version": "1.2.0",
            "_view_name": "LayoutView",
            "align_content": null,
            "align_items": null,
            "align_self": null,
            "border": null,
            "bottom": null,
            "display": null,
            "flex": null,
            "flex_flow": null,
            "grid_area": null,
            "grid_auto_columns": null,
            "grid_auto_flow": null,
            "grid_auto_rows": null,
            "grid_column": null,
            "grid_gap": null,
            "grid_row": null,
            "grid_template_areas": null,
            "grid_template_columns": null,
            "grid_template_rows": null,
            "height": null,
            "justify_content": null,
            "justify_items": null,
            "left": null,
            "margin": null,
            "max_height": null,
            "max_width": null,
            "min_height": null,
            "min_width": null,
            "object_fit": null,
            "object_position": null,
            "order": null,
            "overflow": null,
            "overflow_x": null,
            "overflow_y": null,
            "padding": null,
            "right": null,
            "top": null,
            "visibility": null,
            "width": null
          }
        },
        "3d4edc2ed75f46318211254c50d98139": {
          "model_module": "@jupyter-widgets/controls",
          "model_name": "ProgressStyleModel",
          "model_module_version": "1.5.0",
          "state": {
            "_model_module": "@jupyter-widgets/controls",
            "_model_module_version": "1.5.0",
            "_model_name": "ProgressStyleModel",
            "_view_count": null,
            "_view_module": "@jupyter-widgets/base",
            "_view_module_version": "1.2.0",
            "_view_name": "StyleView",
            "bar_color": null,
            "description_width": ""
          }
        },
        "93ecaa500d334ea2b2705aad16ab5117": {
          "model_module": "@jupyter-widgets/base",
          "model_name": "LayoutModel",
          "model_module_version": "1.2.0",
          "state": {
            "_model_module": "@jupyter-widgets/base",
            "_model_module_version": "1.2.0",
            "_model_name": "LayoutModel",
            "_view_count": null,
            "_view_module": "@jupyter-widgets/base",
            "_view_module_version": "1.2.0",
            "_view_name": "LayoutView",
            "align_content": null,
            "align_items": null,
            "align_self": null,
            "border": null,
            "bottom": null,
            "display": null,
            "flex": null,
            "flex_flow": null,
            "grid_area": null,
            "grid_auto_columns": null,
            "grid_auto_flow": null,
            "grid_auto_rows": null,
            "grid_column": null,
            "grid_gap": null,
            "grid_row": null,
            "grid_template_areas": null,
            "grid_template_columns": null,
            "grid_template_rows": null,
            "height": null,
            "justify_content": null,
            "justify_items": null,
            "left": null,
            "margin": null,
            "max_height": null,
            "max_width": null,
            "min_height": null,
            "min_width": null,
            "object_fit": null,
            "object_position": null,
            "order": null,
            "overflow": null,
            "overflow_x": null,
            "overflow_y": null,
            "padding": null,
            "right": null,
            "top": null,
            "visibility": null,
            "width": null
          }
        },
        "c352690e5d3c44709bf4cb69c177c0d8": {
          "model_module": "@jupyter-widgets/controls",
          "model_name": "DescriptionStyleModel",
          "model_module_version": "1.5.0",
          "state": {
            "_model_module": "@jupyter-widgets/controls",
            "_model_module_version": "1.5.0",
            "_model_name": "DescriptionStyleModel",
            "_view_count": null,
            "_view_module": "@jupyter-widgets/base",
            "_view_module_version": "1.2.0",
            "_view_name": "StyleView",
            "description_width": ""
          }
        },
        "ac06f9ca5a7e4530b99cff02d81dd798": {
          "model_module": "@jupyter-widgets/controls",
          "model_name": "HBoxModel",
          "model_module_version": "1.5.0",
          "state": {
            "_dom_classes": [],
            "_model_module": "@jupyter-widgets/controls",
            "_model_module_version": "1.5.0",
            "_model_name": "HBoxModel",
            "_view_count": null,
            "_view_module": "@jupyter-widgets/controls",
            "_view_module_version": "1.5.0",
            "_view_name": "HBoxView",
            "box_style": "",
            "children": [
              "IPY_MODEL_7a2aa4e2b4c24f5084c422e6daed0d22",
              "IPY_MODEL_502dfed669554121808317434fdfa5ec",
              "IPY_MODEL_23b8f29b2f2549d8be50d9d0657e1699"
            ],
            "layout": "IPY_MODEL_15255da08b014ca59f36a85129198310"
          }
        },
        "7a2aa4e2b4c24f5084c422e6daed0d22": {
          "model_module": "@jupyter-widgets/controls",
          "model_name": "HTMLModel",
          "model_module_version": "1.5.0",
          "state": {
            "_dom_classes": [],
            "_model_module": "@jupyter-widgets/controls",
            "_model_module_version": "1.5.0",
            "_model_name": "HTMLModel",
            "_view_count": null,
            "_view_module": "@jupyter-widgets/controls",
            "_view_module_version": "1.5.0",
            "_view_name": "HTMLView",
            "description": "",
            "description_tooltip": null,
            "layout": "IPY_MODEL_9d17689965ff4fe291107c7396edac44",
            "placeholder": "​",
            "style": "IPY_MODEL_3a7520c4d7554377a6d9701b11a9ac70",
            "value": "Downloading: 100%"
          }
        },
        "502dfed669554121808317434fdfa5ec": {
          "model_module": "@jupyter-widgets/controls",
          "model_name": "FloatProgressModel",
          "model_module_version": "1.5.0",
          "state": {
            "_dom_classes": [],
            "_model_module": "@jupyter-widgets/controls",
            "_model_module_version": "1.5.0",
            "_model_name": "FloatProgressModel",
            "_view_count": null,
            "_view_module": "@jupyter-widgets/controls",
            "_view_module_version": "1.5.0",
            "_view_name": "ProgressView",
            "bar_style": "success",
            "description": "",
            "description_tooltip": null,
            "layout": "IPY_MODEL_eb17a121776a4d17b178e69d61c6eaea",
            "max": 791656,
            "min": 0,
            "orientation": "horizontal",
            "style": "IPY_MODEL_d407f32c96c84ec59a5bd9647cad96eb",
            "value": 791656
          }
        },
        "23b8f29b2f2549d8be50d9d0657e1699": {
          "model_module": "@jupyter-widgets/controls",
          "model_name": "HTMLModel",
          "model_module_version": "1.5.0",
          "state": {
            "_dom_classes": [],
            "_model_module": "@jupyter-widgets/controls",
            "_model_module_version": "1.5.0",
            "_model_name": "HTMLModel",
            "_view_count": null,
            "_view_module": "@jupyter-widgets/controls",
            "_view_module_version": "1.5.0",
            "_view_name": "HTMLView",
            "description": "",
            "description_tooltip": null,
            "layout": "IPY_MODEL_ab72cf22deac4487be6fe35fe55ca34b",
            "placeholder": "​",
            "style": "IPY_MODEL_a8fa898b23384168a0b02780de21492c",
            "value": " 792k/792k [00:00&lt;00:00, 1.84MB/s]"
          }
        },
        "15255da08b014ca59f36a85129198310": {
          "model_module": "@jupyter-widgets/base",
          "model_name": "LayoutModel",
          "model_module_version": "1.2.0",
          "state": {
            "_model_module": "@jupyter-widgets/base",
            "_model_module_version": "1.2.0",
            "_model_name": "LayoutModel",
            "_view_count": null,
            "_view_module": "@jupyter-widgets/base",
            "_view_module_version": "1.2.0",
            "_view_name": "LayoutView",
            "align_content": null,
            "align_items": null,
            "align_self": null,
            "border": null,
            "bottom": null,
            "display": null,
            "flex": null,
            "flex_flow": null,
            "grid_area": null,
            "grid_auto_columns": null,
            "grid_auto_flow": null,
            "grid_auto_rows": null,
            "grid_column": null,
            "grid_gap": null,
            "grid_row": null,
            "grid_template_areas": null,
            "grid_template_columns": null,
            "grid_template_rows": null,
            "height": null,
            "justify_content": null,
            "justify_items": null,
            "left": null,
            "margin": null,
            "max_height": null,
            "max_width": null,
            "min_height": null,
            "min_width": null,
            "object_fit": null,
            "object_position": null,
            "order": null,
            "overflow": null,
            "overflow_x": null,
            "overflow_y": null,
            "padding": null,
            "right": null,
            "top": null,
            "visibility": null,
            "width": null
          }
        },
        "9d17689965ff4fe291107c7396edac44": {
          "model_module": "@jupyter-widgets/base",
          "model_name": "LayoutModel",
          "model_module_version": "1.2.0",
          "state": {
            "_model_module": "@jupyter-widgets/base",
            "_model_module_version": "1.2.0",
            "_model_name": "LayoutModel",
            "_view_count": null,
            "_view_module": "@jupyter-widgets/base",
            "_view_module_version": "1.2.0",
            "_view_name": "LayoutView",
            "align_content": null,
            "align_items": null,
            "align_self": null,
            "border": null,
            "bottom": null,
            "display": null,
            "flex": null,
            "flex_flow": null,
            "grid_area": null,
            "grid_auto_columns": null,
            "grid_auto_flow": null,
            "grid_auto_rows": null,
            "grid_column": null,
            "grid_gap": null,
            "grid_row": null,
            "grid_template_areas": null,
            "grid_template_columns": null,
            "grid_template_rows": null,
            "height": null,
            "justify_content": null,
            "justify_items": null,
            "left": null,
            "margin": null,
            "max_height": null,
            "max_width": null,
            "min_height": null,
            "min_width": null,
            "object_fit": null,
            "object_position": null,
            "order": null,
            "overflow": null,
            "overflow_x": null,
            "overflow_y": null,
            "padding": null,
            "right": null,
            "top": null,
            "visibility": null,
            "width": null
          }
        },
        "3a7520c4d7554377a6d9701b11a9ac70": {
          "model_module": "@jupyter-widgets/controls",
          "model_name": "DescriptionStyleModel",
          "model_module_version": "1.5.0",
          "state": {
            "_model_module": "@jupyter-widgets/controls",
            "_model_module_version": "1.5.0",
            "_model_name": "DescriptionStyleModel",
            "_view_count": null,
            "_view_module": "@jupyter-widgets/base",
            "_view_module_version": "1.2.0",
            "_view_name": "StyleView",
            "description_width": ""
          }
        },
        "eb17a121776a4d17b178e69d61c6eaea": {
          "model_module": "@jupyter-widgets/base",
          "model_name": "LayoutModel",
          "model_module_version": "1.2.0",
          "state": {
            "_model_module": "@jupyter-widgets/base",
            "_model_module_version": "1.2.0",
            "_model_name": "LayoutModel",
            "_view_count": null,
            "_view_module": "@jupyter-widgets/base",
            "_view_module_version": "1.2.0",
            "_view_name": "LayoutView",
            "align_content": null,
            "align_items": null,
            "align_self": null,
            "border": null,
            "bottom": null,
            "display": null,
            "flex": null,
            "flex_flow": null,
            "grid_area": null,
            "grid_auto_columns": null,
            "grid_auto_flow": null,
            "grid_auto_rows": null,
            "grid_column": null,
            "grid_gap": null,
            "grid_row": null,
            "grid_template_areas": null,
            "grid_template_columns": null,
            "grid_template_rows": null,
            "height": null,
            "justify_content": null,
            "justify_items": null,
            "left": null,
            "margin": null,
            "max_height": null,
            "max_width": null,
            "min_height": null,
            "min_width": null,
            "object_fit": null,
            "object_position": null,
            "order": null,
            "overflow": null,
            "overflow_x": null,
            "overflow_y": null,
            "padding": null,
            "right": null,
            "top": null,
            "visibility": null,
            "width": null
          }
        },
        "d407f32c96c84ec59a5bd9647cad96eb": {
          "model_module": "@jupyter-widgets/controls",
          "model_name": "ProgressStyleModel",
          "model_module_version": "1.5.0",
          "state": {
            "_model_module": "@jupyter-widgets/controls",
            "_model_module_version": "1.5.0",
            "_model_name": "ProgressStyleModel",
            "_view_count": null,
            "_view_module": "@jupyter-widgets/base",
            "_view_module_version": "1.2.0",
            "_view_name": "StyleView",
            "bar_color": null,
            "description_width": ""
          }
        },
        "ab72cf22deac4487be6fe35fe55ca34b": {
          "model_module": "@jupyter-widgets/base",
          "model_name": "LayoutModel",
          "model_module_version": "1.2.0",
          "state": {
            "_model_module": "@jupyter-widgets/base",
            "_model_module_version": "1.2.0",
            "_model_name": "LayoutModel",
            "_view_count": null,
            "_view_module": "@jupyter-widgets/base",
            "_view_module_version": "1.2.0",
            "_view_name": "LayoutView",
            "align_content": null,
            "align_items": null,
            "align_self": null,
            "border": null,
            "bottom": null,
            "display": null,
            "flex": null,
            "flex_flow": null,
            "grid_area": null,
            "grid_auto_columns": null,
            "grid_auto_flow": null,
            "grid_auto_rows": null,
            "grid_column": null,
            "grid_gap": null,
            "grid_row": null,
            "grid_template_areas": null,
            "grid_template_columns": null,
            "grid_template_rows": null,
            "height": null,
            "justify_content": null,
            "justify_items": null,
            "left": null,
            "margin": null,
            "max_height": null,
            "max_width": null,
            "min_height": null,
            "min_width": null,
            "object_fit": null,
            "object_position": null,
            "order": null,
            "overflow": null,
            "overflow_x": null,
            "overflow_y": null,
            "padding": null,
            "right": null,
            "top": null,
            "visibility": null,
            "width": null
          }
        },
        "a8fa898b23384168a0b02780de21492c": {
          "model_module": "@jupyter-widgets/controls",
          "model_name": "DescriptionStyleModel",
          "model_module_version": "1.5.0",
          "state": {
            "_model_module": "@jupyter-widgets/controls",
            "_model_module_version": "1.5.0",
            "_model_name": "DescriptionStyleModel",
            "_view_count": null,
            "_view_module": "@jupyter-widgets/base",
            "_view_module_version": "1.2.0",
            "_view_name": "StyleView",
            "description_width": ""
          }
        },
        "3b9c36eac1494cf181c676996090af56": {
          "model_module": "@jupyter-widgets/controls",
          "model_name": "HBoxModel",
          "model_module_version": "1.5.0",
          "state": {
            "_dom_classes": [],
            "_model_module": "@jupyter-widgets/controls",
            "_model_module_version": "1.5.0",
            "_model_name": "HBoxModel",
            "_view_count": null,
            "_view_module": "@jupyter-widgets/controls",
            "_view_module_version": "1.5.0",
            "_view_name": "HBoxView",
            "box_style": "",
            "children": [
              "IPY_MODEL_6e30a75494604f379e50cb36da6887e7",
              "IPY_MODEL_e5caf29f7300496b89fd8fc2bd6c5493",
              "IPY_MODEL_a13663892a8e4721b468397720092058"
            ],
            "layout": "IPY_MODEL_5e067ea0407441cda77f1491c215ad4c"
          }
        },
        "6e30a75494604f379e50cb36da6887e7": {
          "model_module": "@jupyter-widgets/controls",
          "model_name": "HTMLModel",
          "model_module_version": "1.5.0",
          "state": {
            "_dom_classes": [],
            "_model_module": "@jupyter-widgets/controls",
            "_model_module_version": "1.5.0",
            "_model_name": "HTMLModel",
            "_view_count": null,
            "_view_module": "@jupyter-widgets/controls",
            "_view_module_version": "1.5.0",
            "_view_name": "HTMLView",
            "description": "",
            "description_tooltip": null,
            "layout": "IPY_MODEL_bf0fe01e604a42e985557dd9080edb5b",
            "placeholder": "​",
            "style": "IPY_MODEL_99989edaa071485b8a146808c3a2a8c7",
            "value": "Downloading: 100%"
          }
        },
        "e5caf29f7300496b89fd8fc2bd6c5493": {
          "model_module": "@jupyter-widgets/controls",
          "model_name": "FloatProgressModel",
          "model_module_version": "1.5.0",
          "state": {
            "_dom_classes": [],
            "_model_module": "@jupyter-widgets/controls",
            "_model_module_version": "1.5.0",
            "_model_name": "FloatProgressModel",
            "_view_count": null,
            "_view_module": "@jupyter-widgets/controls",
            "_view_module_version": "1.5.0",
            "_view_name": "ProgressView",
            "bar_style": "success",
            "description": "",
            "description_tooltip": null,
            "layout": "IPY_MODEL_1836b0c775e343bcae1dffbf97d7005e",
            "max": 1208,
            "min": 0,
            "orientation": "horizontal",
            "style": "IPY_MODEL_3635c0d41c71422caf47a7b22091e26a",
            "value": 1208
          }
        },
        "a13663892a8e4721b468397720092058": {
          "model_module": "@jupyter-widgets/controls",
          "model_name": "HTMLModel",
          "model_module_version": "1.5.0",
          "state": {
            "_dom_classes": [],
            "_model_module": "@jupyter-widgets/controls",
            "_model_module_version": "1.5.0",
            "_model_name": "HTMLModel",
            "_view_count": null,
            "_view_module": "@jupyter-widgets/controls",
            "_view_module_version": "1.5.0",
            "_view_name": "HTMLView",
            "description": "",
            "description_tooltip": null,
            "layout": "IPY_MODEL_e064d9ea43114befb30810bc0b917d96",
            "placeholder": "​",
            "style": "IPY_MODEL_1e6ad5821f774487a4a3c5577540d74d",
            "value": " 1.21k/1.21k [00:00&lt;00:00, 12.0kB/s]"
          }
        },
        "5e067ea0407441cda77f1491c215ad4c": {
          "model_module": "@jupyter-widgets/base",
          "model_name": "LayoutModel",
          "model_module_version": "1.2.0",
          "state": {
            "_model_module": "@jupyter-widgets/base",
            "_model_module_version": "1.2.0",
            "_model_name": "LayoutModel",
            "_view_count": null,
            "_view_module": "@jupyter-widgets/base",
            "_view_module_version": "1.2.0",
            "_view_name": "LayoutView",
            "align_content": null,
            "align_items": null,
            "align_self": null,
            "border": null,
            "bottom": null,
            "display": null,
            "flex": null,
            "flex_flow": null,
            "grid_area": null,
            "grid_auto_columns": null,
            "grid_auto_flow": null,
            "grid_auto_rows": null,
            "grid_column": null,
            "grid_gap": null,
            "grid_row": null,
            "grid_template_areas": null,
            "grid_template_columns": null,
            "grid_template_rows": null,
            "height": null,
            "justify_content": null,
            "justify_items": null,
            "left": null,
            "margin": null,
            "max_height": null,
            "max_width": null,
            "min_height": null,
            "min_width": null,
            "object_fit": null,
            "object_position": null,
            "order": null,
            "overflow": null,
            "overflow_x": null,
            "overflow_y": null,
            "padding": null,
            "right": null,
            "top": null,
            "visibility": null,
            "width": null
          }
        },
        "bf0fe01e604a42e985557dd9080edb5b": {
          "model_module": "@jupyter-widgets/base",
          "model_name": "LayoutModel",
          "model_module_version": "1.2.0",
          "state": {
            "_model_module": "@jupyter-widgets/base",
            "_model_module_version": "1.2.0",
            "_model_name": "LayoutModel",
            "_view_count": null,
            "_view_module": "@jupyter-widgets/base",
            "_view_module_version": "1.2.0",
            "_view_name": "LayoutView",
            "align_content": null,
            "align_items": null,
            "align_self": null,
            "border": null,
            "bottom": null,
            "display": null,
            "flex": null,
            "flex_flow": null,
            "grid_area": null,
            "grid_auto_columns": null,
            "grid_auto_flow": null,
            "grid_auto_rows": null,
            "grid_column": null,
            "grid_gap": null,
            "grid_row": null,
            "grid_template_areas": null,
            "grid_template_columns": null,
            "grid_template_rows": null,
            "height": null,
            "justify_content": null,
            "justify_items": null,
            "left": null,
            "margin": null,
            "max_height": null,
            "max_width": null,
            "min_height": null,
            "min_width": null,
            "object_fit": null,
            "object_position": null,
            "order": null,
            "overflow": null,
            "overflow_x": null,
            "overflow_y": null,
            "padding": null,
            "right": null,
            "top": null,
            "visibility": null,
            "width": null
          }
        },
        "99989edaa071485b8a146808c3a2a8c7": {
          "model_module": "@jupyter-widgets/controls",
          "model_name": "DescriptionStyleModel",
          "model_module_version": "1.5.0",
          "state": {
            "_model_module": "@jupyter-widgets/controls",
            "_model_module_version": "1.5.0",
            "_model_name": "DescriptionStyleModel",
            "_view_count": null,
            "_view_module": "@jupyter-widgets/base",
            "_view_module_version": "1.2.0",
            "_view_name": "StyleView",
            "description_width": ""
          }
        },
        "1836b0c775e343bcae1dffbf97d7005e": {
          "model_module": "@jupyter-widgets/base",
          "model_name": "LayoutModel",
          "model_module_version": "1.2.0",
          "state": {
            "_model_module": "@jupyter-widgets/base",
            "_model_module_version": "1.2.0",
            "_model_name": "LayoutModel",
            "_view_count": null,
            "_view_module": "@jupyter-widgets/base",
            "_view_module_version": "1.2.0",
            "_view_name": "LayoutView",
            "align_content": null,
            "align_items": null,
            "align_self": null,
            "border": null,
            "bottom": null,
            "display": null,
            "flex": null,
            "flex_flow": null,
            "grid_area": null,
            "grid_auto_columns": null,
            "grid_auto_flow": null,
            "grid_auto_rows": null,
            "grid_column": null,
            "grid_gap": null,
            "grid_row": null,
            "grid_template_areas": null,
            "grid_template_columns": null,
            "grid_template_rows": null,
            "height": null,
            "justify_content": null,
            "justify_items": null,
            "left": null,
            "margin": null,
            "max_height": null,
            "max_width": null,
            "min_height": null,
            "min_width": null,
            "object_fit": null,
            "object_position": null,
            "order": null,
            "overflow": null,
            "overflow_x": null,
            "overflow_y": null,
            "padding": null,
            "right": null,
            "top": null,
            "visibility": null,
            "width": null
          }
        },
        "3635c0d41c71422caf47a7b22091e26a": {
          "model_module": "@jupyter-widgets/controls",
          "model_name": "ProgressStyleModel",
          "model_module_version": "1.5.0",
          "state": {
            "_model_module": "@jupyter-widgets/controls",
            "_model_module_version": "1.5.0",
            "_model_name": "ProgressStyleModel",
            "_view_count": null,
            "_view_module": "@jupyter-widgets/base",
            "_view_module_version": "1.2.0",
            "_view_name": "StyleView",
            "bar_color": null,
            "description_width": ""
          }
        },
        "e064d9ea43114befb30810bc0b917d96": {
          "model_module": "@jupyter-widgets/base",
          "model_name": "LayoutModel",
          "model_module_version": "1.2.0",
          "state": {
            "_model_module": "@jupyter-widgets/base",
            "_model_module_version": "1.2.0",
            "_model_name": "LayoutModel",
            "_view_count": null,
            "_view_module": "@jupyter-widgets/base",
            "_view_module_version": "1.2.0",
            "_view_name": "LayoutView",
            "align_content": null,
            "align_items": null,
            "align_self": null,
            "border": null,
            "bottom": null,
            "display": null,
            "flex": null,
            "flex_flow": null,
            "grid_area": null,
            "grid_auto_columns": null,
            "grid_auto_flow": null,
            "grid_auto_rows": null,
            "grid_column": null,
            "grid_gap": null,
            "grid_row": null,
            "grid_template_areas": null,
            "grid_template_columns": null,
            "grid_template_rows": null,
            "height": null,
            "justify_content": null,
            "justify_items": null,
            "left": null,
            "margin": null,
            "max_height": null,
            "max_width": null,
            "min_height": null,
            "min_width": null,
            "object_fit": null,
            "object_position": null,
            "order": null,
            "overflow": null,
            "overflow_x": null,
            "overflow_y": null,
            "padding": null,
            "right": null,
            "top": null,
            "visibility": null,
            "width": null
          }
        },
        "1e6ad5821f774487a4a3c5577540d74d": {
          "model_module": "@jupyter-widgets/controls",
          "model_name": "DescriptionStyleModel",
          "model_module_version": "1.5.0",
          "state": {
            "_model_module": "@jupyter-widgets/controls",
            "_model_module_version": "1.5.0",
            "_model_name": "DescriptionStyleModel",
            "_view_count": null,
            "_view_module": "@jupyter-widgets/base",
            "_view_module_version": "1.2.0",
            "_view_name": "StyleView",
            "description_width": ""
          }
        },
        "1bfb4be0cf6b40458b6b11c9f2699055": {
          "model_module": "@jupyter-widgets/controls",
          "model_name": "HBoxModel",
          "model_module_version": "1.5.0",
          "state": {
            "_dom_classes": [],
            "_model_module": "@jupyter-widgets/controls",
            "_model_module_version": "1.5.0",
            "_model_name": "HBoxModel",
            "_view_count": null,
            "_view_module": "@jupyter-widgets/controls",
            "_view_module_version": "1.5.0",
            "_view_name": "HBoxView",
            "box_style": "",
            "children": [
              "IPY_MODEL_b2d58bac57324c5eb862029c542929ce",
              "IPY_MODEL_a2f9c4b93552473caeb7d63b536a3df4",
              "IPY_MODEL_223e42daa0df4fc7aed9d4ab661f67bb"
            ],
            "layout": "IPY_MODEL_e222fb17a4434c838360516a22bed627"
          }
        },
        "b2d58bac57324c5eb862029c542929ce": {
          "model_module": "@jupyter-widgets/controls",
          "model_name": "HTMLModel",
          "model_module_version": "1.5.0",
          "state": {
            "_dom_classes": [],
            "_model_module": "@jupyter-widgets/controls",
            "_model_module_version": "1.5.0",
            "_model_name": "HTMLModel",
            "_view_count": null,
            "_view_module": "@jupyter-widgets/controls",
            "_view_module_version": "1.5.0",
            "_view_name": "HTMLView",
            "description": "",
            "description_tooltip": null,
            "layout": "IPY_MODEL_f6840024775b46eb8e65c93d00423f81",
            "placeholder": "​",
            "style": "IPY_MODEL_44cc664209ce427a8ce541ce4b81f445",
            "value": "Downloading: 100%"
          }
        },
        "a2f9c4b93552473caeb7d63b536a3df4": {
          "model_module": "@jupyter-widgets/controls",
          "model_name": "FloatProgressModel",
          "model_module_version": "1.5.0",
          "state": {
            "_dom_classes": [],
            "_model_module": "@jupyter-widgets/controls",
            "_model_module_version": "1.5.0",
            "_model_name": "FloatProgressModel",
            "_view_count": null,
            "_view_module": "@jupyter-widgets/controls",
            "_view_module_version": "1.5.0",
            "_view_name": "ProgressView",
            "bar_style": "success",
            "description": "",
            "description_tooltip": null,
            "layout": "IPY_MODEL_fb6f464442ce49429492d0c7d962efa1",
            "max": 891695056,
            "min": 0,
            "orientation": "horizontal",
            "style": "IPY_MODEL_c036c19b75b842e6862543d648effd90",
            "value": 891695056
          }
        },
        "223e42daa0df4fc7aed9d4ab661f67bb": {
          "model_module": "@jupyter-widgets/controls",
          "model_name": "HTMLModel",
          "model_module_version": "1.5.0",
          "state": {
            "_dom_classes": [],
            "_model_module": "@jupyter-widgets/controls",
            "_model_module_version": "1.5.0",
            "_model_name": "HTMLModel",
            "_view_count": null,
            "_view_module": "@jupyter-widgets/controls",
            "_view_module_version": "1.5.0",
            "_view_name": "HTMLView",
            "description": "",
            "description_tooltip": null,
            "layout": "IPY_MODEL_508e752d51f34d60a2ec97feef7d425b",
            "placeholder": "​",
            "style": "IPY_MODEL_fc0e67f6ffcd448082b426beee020c3a",
            "value": " 892M/892M [00:34&lt;00:00, 28.6MB/s]"
          }
        },
        "e222fb17a4434c838360516a22bed627": {
          "model_module": "@jupyter-widgets/base",
          "model_name": "LayoutModel",
          "model_module_version": "1.2.0",
          "state": {
            "_model_module": "@jupyter-widgets/base",
            "_model_module_version": "1.2.0",
            "_model_name": "LayoutModel",
            "_view_count": null,
            "_view_module": "@jupyter-widgets/base",
            "_view_module_version": "1.2.0",
            "_view_name": "LayoutView",
            "align_content": null,
            "align_items": null,
            "align_self": null,
            "border": null,
            "bottom": null,
            "display": null,
            "flex": null,
            "flex_flow": null,
            "grid_area": null,
            "grid_auto_columns": null,
            "grid_auto_flow": null,
            "grid_auto_rows": null,
            "grid_column": null,
            "grid_gap": null,
            "grid_row": null,
            "grid_template_areas": null,
            "grid_template_columns": null,
            "grid_template_rows": null,
            "height": null,
            "justify_content": null,
            "justify_items": null,
            "left": null,
            "margin": null,
            "max_height": null,
            "max_width": null,
            "min_height": null,
            "min_width": null,
            "object_fit": null,
            "object_position": null,
            "order": null,
            "overflow": null,
            "overflow_x": null,
            "overflow_y": null,
            "padding": null,
            "right": null,
            "top": null,
            "visibility": null,
            "width": null
          }
        },
        "f6840024775b46eb8e65c93d00423f81": {
          "model_module": "@jupyter-widgets/base",
          "model_name": "LayoutModel",
          "model_module_version": "1.2.0",
          "state": {
            "_model_module": "@jupyter-widgets/base",
            "_model_module_version": "1.2.0",
            "_model_name": "LayoutModel",
            "_view_count": null,
            "_view_module": "@jupyter-widgets/base",
            "_view_module_version": "1.2.0",
            "_view_name": "LayoutView",
            "align_content": null,
            "align_items": null,
            "align_self": null,
            "border": null,
            "bottom": null,
            "display": null,
            "flex": null,
            "flex_flow": null,
            "grid_area": null,
            "grid_auto_columns": null,
            "grid_auto_flow": null,
            "grid_auto_rows": null,
            "grid_column": null,
            "grid_gap": null,
            "grid_row": null,
            "grid_template_areas": null,
            "grid_template_columns": null,
            "grid_template_rows": null,
            "height": null,
            "justify_content": null,
            "justify_items": null,
            "left": null,
            "margin": null,
            "max_height": null,
            "max_width": null,
            "min_height": null,
            "min_width": null,
            "object_fit": null,
            "object_position": null,
            "order": null,
            "overflow": null,
            "overflow_x": null,
            "overflow_y": null,
            "padding": null,
            "right": null,
            "top": null,
            "visibility": null,
            "width": null
          }
        },
        "44cc664209ce427a8ce541ce4b81f445": {
          "model_module": "@jupyter-widgets/controls",
          "model_name": "DescriptionStyleModel",
          "model_module_version": "1.5.0",
          "state": {
            "_model_module": "@jupyter-widgets/controls",
            "_model_module_version": "1.5.0",
            "_model_name": "DescriptionStyleModel",
            "_view_count": null,
            "_view_module": "@jupyter-widgets/base",
            "_view_module_version": "1.2.0",
            "_view_name": "StyleView",
            "description_width": ""
          }
        },
        "fb6f464442ce49429492d0c7d962efa1": {
          "model_module": "@jupyter-widgets/base",
          "model_name": "LayoutModel",
          "model_module_version": "1.2.0",
          "state": {
            "_model_module": "@jupyter-widgets/base",
            "_model_module_version": "1.2.0",
            "_model_name": "LayoutModel",
            "_view_count": null,
            "_view_module": "@jupyter-widgets/base",
            "_view_module_version": "1.2.0",
            "_view_name": "LayoutView",
            "align_content": null,
            "align_items": null,
            "align_self": null,
            "border": null,
            "bottom": null,
            "display": null,
            "flex": null,
            "flex_flow": null,
            "grid_area": null,
            "grid_auto_columns": null,
            "grid_auto_flow": null,
            "grid_auto_rows": null,
            "grid_column": null,
            "grid_gap": null,
            "grid_row": null,
            "grid_template_areas": null,
            "grid_template_columns": null,
            "grid_template_rows": null,
            "height": null,
            "justify_content": null,
            "justify_items": null,
            "left": null,
            "margin": null,
            "max_height": null,
            "max_width": null,
            "min_height": null,
            "min_width": null,
            "object_fit": null,
            "object_position": null,
            "order": null,
            "overflow": null,
            "overflow_x": null,
            "overflow_y": null,
            "padding": null,
            "right": null,
            "top": null,
            "visibility": null,
            "width": null
          }
        },
        "c036c19b75b842e6862543d648effd90": {
          "model_module": "@jupyter-widgets/controls",
          "model_name": "ProgressStyleModel",
          "model_module_version": "1.5.0",
          "state": {
            "_model_module": "@jupyter-widgets/controls",
            "_model_module_version": "1.5.0",
            "_model_name": "ProgressStyleModel",
            "_view_count": null,
            "_view_module": "@jupyter-widgets/base",
            "_view_module_version": "1.2.0",
            "_view_name": "StyleView",
            "bar_color": null,
            "description_width": ""
          }
        },
        "508e752d51f34d60a2ec97feef7d425b": {
          "model_module": "@jupyter-widgets/base",
          "model_name": "LayoutModel",
          "model_module_version": "1.2.0",
          "state": {
            "_model_module": "@jupyter-widgets/base",
            "_model_module_version": "1.2.0",
            "_model_name": "LayoutModel",
            "_view_count": null,
            "_view_module": "@jupyter-widgets/base",
            "_view_module_version": "1.2.0",
            "_view_name": "LayoutView",
            "align_content": null,
            "align_items": null,
            "align_self": null,
            "border": null,
            "bottom": null,
            "display": null,
            "flex": null,
            "flex_flow": null,
            "grid_area": null,
            "grid_auto_columns": null,
            "grid_auto_flow": null,
            "grid_auto_rows": null,
            "grid_column": null,
            "grid_gap": null,
            "grid_row": null,
            "grid_template_areas": null,
            "grid_template_columns": null,
            "grid_template_rows": null,
            "height": null,
            "justify_content": null,
            "justify_items": null,
            "left": null,
            "margin": null,
            "max_height": null,
            "max_width": null,
            "min_height": null,
            "min_width": null,
            "object_fit": null,
            "object_position": null,
            "order": null,
            "overflow": null,
            "overflow_x": null,
            "overflow_y": null,
            "padding": null,
            "right": null,
            "top": null,
            "visibility": null,
            "width": null
          }
        },
        "fc0e67f6ffcd448082b426beee020c3a": {
          "model_module": "@jupyter-widgets/controls",
          "model_name": "DescriptionStyleModel",
          "model_module_version": "1.5.0",
          "state": {
            "_model_module": "@jupyter-widgets/controls",
            "_model_module_version": "1.5.0",
            "_model_name": "DescriptionStyleModel",
            "_view_count": null,
            "_view_module": "@jupyter-widgets/base",
            "_view_module_version": "1.2.0",
            "_view_name": "StyleView",
            "description_width": ""
          }
        },
        "422f96a8478b46568ca26162001f8786": {
          "model_module": "@jupyter-widgets/controls",
          "model_name": "HBoxModel",
          "model_module_version": "1.5.0",
          "state": {
            "_dom_classes": [],
            "_model_module": "@jupyter-widgets/controls",
            "_model_module_version": "1.5.0",
            "_model_name": "HBoxModel",
            "_view_count": null,
            "_view_module": "@jupyter-widgets/controls",
            "_view_module_version": "1.5.0",
            "_view_name": "HBoxView",
            "box_style": "",
            "children": [
              "IPY_MODEL_37700f51f99649bf9f6466c840473afb",
              "IPY_MODEL_ab3ff0d0512043a6a1830d4005eb4f49",
              "IPY_MODEL_c4982908eab94df88544527b65cbe83e"
            ],
            "layout": "IPY_MODEL_f7676d1d592e489badd42451beb6fa37"
          }
        },
        "37700f51f99649bf9f6466c840473afb": {
          "model_module": "@jupyter-widgets/controls",
          "model_name": "HTMLModel",
          "model_module_version": "1.5.0",
          "state": {
            "_dom_classes": [],
            "_model_module": "@jupyter-widgets/controls",
            "_model_module_version": "1.5.0",
            "_model_name": "HTMLModel",
            "_view_count": null,
            "_view_module": "@jupyter-widgets/controls",
            "_view_module_version": "1.5.0",
            "_view_name": "HTMLView",
            "description": "",
            "description_tooltip": null,
            "layout": "IPY_MODEL_cb6fb63b232b42f6b389293cc8476926",
            "placeholder": "​",
            "style": "IPY_MODEL_6880af3df4324c51abbcc42ba44add03",
            "value": "Downloading: 100%"
          }
        },
        "ab3ff0d0512043a6a1830d4005eb4f49": {
          "model_module": "@jupyter-widgets/controls",
          "model_name": "FloatProgressModel",
          "model_module_version": "1.5.0",
          "state": {
            "_dom_classes": [],
            "_model_module": "@jupyter-widgets/controls",
            "_model_module_version": "1.5.0",
            "_model_name": "FloatProgressModel",
            "_view_count": null,
            "_view_module": "@jupyter-widgets/controls",
            "_view_module_version": "1.5.0",
            "_view_name": "ProgressView",
            "bar_style": "success",
            "description": "",
            "description_tooltip": null,
            "layout": "IPY_MODEL_85a6f22e7cd6460f8f929e39c3703212",
            "max": 791656,
            "min": 0,
            "orientation": "horizontal",
            "style": "IPY_MODEL_8983b2a5b2294ab589828cac9f763b50",
            "value": 791656
          }
        },
        "c4982908eab94df88544527b65cbe83e": {
          "model_module": "@jupyter-widgets/controls",
          "model_name": "HTMLModel",
          "model_module_version": "1.5.0",
          "state": {
            "_dom_classes": [],
            "_model_module": "@jupyter-widgets/controls",
            "_model_module_version": "1.5.0",
            "_model_name": "HTMLModel",
            "_view_count": null,
            "_view_module": "@jupyter-widgets/controls",
            "_view_module_version": "1.5.0",
            "_view_name": "HTMLView",
            "description": "",
            "description_tooltip": null,
            "layout": "IPY_MODEL_18db02a3d90e4caf9725f52548899121",
            "placeholder": "​",
            "style": "IPY_MODEL_fb6cb7591ef24161ac19d5ae37f08338",
            "value": " 792k/792k [00:00&lt;00:00, 1.12MB/s]"
          }
        },
        "f7676d1d592e489badd42451beb6fa37": {
          "model_module": "@jupyter-widgets/base",
          "model_name": "LayoutModel",
          "model_module_version": "1.2.0",
          "state": {
            "_model_module": "@jupyter-widgets/base",
            "_model_module_version": "1.2.0",
            "_model_name": "LayoutModel",
            "_view_count": null,
            "_view_module": "@jupyter-widgets/base",
            "_view_module_version": "1.2.0",
            "_view_name": "LayoutView",
            "align_content": null,
            "align_items": null,
            "align_self": null,
            "border": null,
            "bottom": null,
            "display": null,
            "flex": null,
            "flex_flow": null,
            "grid_area": null,
            "grid_auto_columns": null,
            "grid_auto_flow": null,
            "grid_auto_rows": null,
            "grid_column": null,
            "grid_gap": null,
            "grid_row": null,
            "grid_template_areas": null,
            "grid_template_columns": null,
            "grid_template_rows": null,
            "height": null,
            "justify_content": null,
            "justify_items": null,
            "left": null,
            "margin": null,
            "max_height": null,
            "max_width": null,
            "min_height": null,
            "min_width": null,
            "object_fit": null,
            "object_position": null,
            "order": null,
            "overflow": null,
            "overflow_x": null,
            "overflow_y": null,
            "padding": null,
            "right": null,
            "top": null,
            "visibility": null,
            "width": null
          }
        },
        "cb6fb63b232b42f6b389293cc8476926": {
          "model_module": "@jupyter-widgets/base",
          "model_name": "LayoutModel",
          "model_module_version": "1.2.0",
          "state": {
            "_model_module": "@jupyter-widgets/base",
            "_model_module_version": "1.2.0",
            "_model_name": "LayoutModel",
            "_view_count": null,
            "_view_module": "@jupyter-widgets/base",
            "_view_module_version": "1.2.0",
            "_view_name": "LayoutView",
            "align_content": null,
            "align_items": null,
            "align_self": null,
            "border": null,
            "bottom": null,
            "display": null,
            "flex": null,
            "flex_flow": null,
            "grid_area": null,
            "grid_auto_columns": null,
            "grid_auto_flow": null,
            "grid_auto_rows": null,
            "grid_column": null,
            "grid_gap": null,
            "grid_row": null,
            "grid_template_areas": null,
            "grid_template_columns": null,
            "grid_template_rows": null,
            "height": null,
            "justify_content": null,
            "justify_items": null,
            "left": null,
            "margin": null,
            "max_height": null,
            "max_width": null,
            "min_height": null,
            "min_width": null,
            "object_fit": null,
            "object_position": null,
            "order": null,
            "overflow": null,
            "overflow_x": null,
            "overflow_y": null,
            "padding": null,
            "right": null,
            "top": null,
            "visibility": null,
            "width": null
          }
        },
        "6880af3df4324c51abbcc42ba44add03": {
          "model_module": "@jupyter-widgets/controls",
          "model_name": "DescriptionStyleModel",
          "model_module_version": "1.5.0",
          "state": {
            "_model_module": "@jupyter-widgets/controls",
            "_model_module_version": "1.5.0",
            "_model_name": "DescriptionStyleModel",
            "_view_count": null,
            "_view_module": "@jupyter-widgets/base",
            "_view_module_version": "1.2.0",
            "_view_name": "StyleView",
            "description_width": ""
          }
        },
        "85a6f22e7cd6460f8f929e39c3703212": {
          "model_module": "@jupyter-widgets/base",
          "model_name": "LayoutModel",
          "model_module_version": "1.2.0",
          "state": {
            "_model_module": "@jupyter-widgets/base",
            "_model_module_version": "1.2.0",
            "_model_name": "LayoutModel",
            "_view_count": null,
            "_view_module": "@jupyter-widgets/base",
            "_view_module_version": "1.2.0",
            "_view_name": "LayoutView",
            "align_content": null,
            "align_items": null,
            "align_self": null,
            "border": null,
            "bottom": null,
            "display": null,
            "flex": null,
            "flex_flow": null,
            "grid_area": null,
            "grid_auto_columns": null,
            "grid_auto_flow": null,
            "grid_auto_rows": null,
            "grid_column": null,
            "grid_gap": null,
            "grid_row": null,
            "grid_template_areas": null,
            "grid_template_columns": null,
            "grid_template_rows": null,
            "height": null,
            "justify_content": null,
            "justify_items": null,
            "left": null,
            "margin": null,
            "max_height": null,
            "max_width": null,
            "min_height": null,
            "min_width": null,
            "object_fit": null,
            "object_position": null,
            "order": null,
            "overflow": null,
            "overflow_x": null,
            "overflow_y": null,
            "padding": null,
            "right": null,
            "top": null,
            "visibility": null,
            "width": null
          }
        },
        "8983b2a5b2294ab589828cac9f763b50": {
          "model_module": "@jupyter-widgets/controls",
          "model_name": "ProgressStyleModel",
          "model_module_version": "1.5.0",
          "state": {
            "_model_module": "@jupyter-widgets/controls",
            "_model_module_version": "1.5.0",
            "_model_name": "ProgressStyleModel",
            "_view_count": null,
            "_view_module": "@jupyter-widgets/base",
            "_view_module_version": "1.2.0",
            "_view_name": "StyleView",
            "bar_color": null,
            "description_width": ""
          }
        },
        "18db02a3d90e4caf9725f52548899121": {
          "model_module": "@jupyter-widgets/base",
          "model_name": "LayoutModel",
          "model_module_version": "1.2.0",
          "state": {
            "_model_module": "@jupyter-widgets/base",
            "_model_module_version": "1.2.0",
            "_model_name": "LayoutModel",
            "_view_count": null,
            "_view_module": "@jupyter-widgets/base",
            "_view_module_version": "1.2.0",
            "_view_name": "LayoutView",
            "align_content": null,
            "align_items": null,
            "align_self": null,
            "border": null,
            "bottom": null,
            "display": null,
            "flex": null,
            "flex_flow": null,
            "grid_area": null,
            "grid_auto_columns": null,
            "grid_auto_flow": null,
            "grid_auto_rows": null,
            "grid_column": null,
            "grid_gap": null,
            "grid_row": null,
            "grid_template_areas": null,
            "grid_template_columns": null,
            "grid_template_rows": null,
            "height": null,
            "justify_content": null,
            "justify_items": null,
            "left": null,
            "margin": null,
            "max_height": null,
            "max_width": null,
            "min_height": null,
            "min_width": null,
            "object_fit": null,
            "object_position": null,
            "order": null,
            "overflow": null,
            "overflow_x": null,
            "overflow_y": null,
            "padding": null,
            "right": null,
            "top": null,
            "visibility": null,
            "width": null
          }
        },
        "fb6cb7591ef24161ac19d5ae37f08338": {
          "model_module": "@jupyter-widgets/controls",
          "model_name": "DescriptionStyleModel",
          "model_module_version": "1.5.0",
          "state": {
            "_model_module": "@jupyter-widgets/controls",
            "_model_module_version": "1.5.0",
            "_model_name": "DescriptionStyleModel",
            "_view_count": null,
            "_view_module": "@jupyter-widgets/base",
            "_view_module_version": "1.2.0",
            "_view_name": "StyleView",
            "description_width": ""
          }
        },
        "e72706dc1979499697b6edee14aa284d": {
          "model_module": "@jupyter-widgets/controls",
          "model_name": "HBoxModel",
          "model_module_version": "1.5.0",
          "state": {
            "_dom_classes": [],
            "_model_module": "@jupyter-widgets/controls",
            "_model_module_version": "1.5.0",
            "_model_name": "HBoxModel",
            "_view_count": null,
            "_view_module": "@jupyter-widgets/controls",
            "_view_module_version": "1.5.0",
            "_view_name": "HBoxView",
            "box_style": "",
            "children": [
              "IPY_MODEL_e46d73ed8383415a98571851fae94f8e",
              "IPY_MODEL_a3228eab1064484f95676d71c71db954",
              "IPY_MODEL_476ae5bc6a14452798ece7fe9d1b67be"
            ],
            "layout": "IPY_MODEL_99de48f634574db7b56baa93eb3a4a1f"
          }
        },
        "e46d73ed8383415a98571851fae94f8e": {
          "model_module": "@jupyter-widgets/controls",
          "model_name": "HTMLModel",
          "model_module_version": "1.5.0",
          "state": {
            "_dom_classes": [],
            "_model_module": "@jupyter-widgets/controls",
            "_model_module_version": "1.5.0",
            "_model_name": "HTMLModel",
            "_view_count": null,
            "_view_module": "@jupyter-widgets/controls",
            "_view_module_version": "1.5.0",
            "_view_name": "HTMLView",
            "description": "",
            "description_tooltip": null,
            "layout": "IPY_MODEL_35b36b2745184e24965414fa0b4853a4",
            "placeholder": "​",
            "style": "IPY_MODEL_cf6be50060e647c48a4f06325d6cc155",
            "value": "Downloading: 100%"
          }
        },
        "a3228eab1064484f95676d71c71db954": {
          "model_module": "@jupyter-widgets/controls",
          "model_name": "FloatProgressModel",
          "model_module_version": "1.5.0",
          "state": {
            "_dom_classes": [],
            "_model_module": "@jupyter-widgets/controls",
            "_model_module_version": "1.5.0",
            "_model_name": "FloatProgressModel",
            "_view_count": null,
            "_view_module": "@jupyter-widgets/controls",
            "_view_module_version": "1.5.0",
            "_view_name": "ProgressView",
            "bar_style": "success",
            "description": "",
            "description_tooltip": null,
            "layout": "IPY_MODEL_35dad56309f0480eacabb187efa4e8f4",
            "max": 1786,
            "min": 0,
            "orientation": "horizontal",
            "style": "IPY_MODEL_2a899c7807db470aa4d2d87de981acc3",
            "value": 1786
          }
        },
        "476ae5bc6a14452798ece7fe9d1b67be": {
          "model_module": "@jupyter-widgets/controls",
          "model_name": "HTMLModel",
          "model_module_version": "1.5.0",
          "state": {
            "_dom_classes": [],
            "_model_module": "@jupyter-widgets/controls",
            "_model_module_version": "1.5.0",
            "_model_name": "HTMLModel",
            "_view_count": null,
            "_view_module": "@jupyter-widgets/controls",
            "_view_module_version": "1.5.0",
            "_view_name": "HTMLView",
            "description": "",
            "description_tooltip": null,
            "layout": "IPY_MODEL_f4a48c44edc542419ad6842785b25a04",
            "placeholder": "​",
            "style": "IPY_MODEL_647f1441740c47fd99dd7302c19dcf99",
            "value": " 1.79k/1.79k [00:00&lt;00:00, 7.44kB/s]"
          }
        },
        "99de48f634574db7b56baa93eb3a4a1f": {
          "model_module": "@jupyter-widgets/base",
          "model_name": "LayoutModel",
          "model_module_version": "1.2.0",
          "state": {
            "_model_module": "@jupyter-widgets/base",
            "_model_module_version": "1.2.0",
            "_model_name": "LayoutModel",
            "_view_count": null,
            "_view_module": "@jupyter-widgets/base",
            "_view_module_version": "1.2.0",
            "_view_name": "LayoutView",
            "align_content": null,
            "align_items": null,
            "align_self": null,
            "border": null,
            "bottom": null,
            "display": null,
            "flex": null,
            "flex_flow": null,
            "grid_area": null,
            "grid_auto_columns": null,
            "grid_auto_flow": null,
            "grid_auto_rows": null,
            "grid_column": null,
            "grid_gap": null,
            "grid_row": null,
            "grid_template_areas": null,
            "grid_template_columns": null,
            "grid_template_rows": null,
            "height": null,
            "justify_content": null,
            "justify_items": null,
            "left": null,
            "margin": null,
            "max_height": null,
            "max_width": null,
            "min_height": null,
            "min_width": null,
            "object_fit": null,
            "object_position": null,
            "order": null,
            "overflow": null,
            "overflow_x": null,
            "overflow_y": null,
            "padding": null,
            "right": null,
            "top": null,
            "visibility": null,
            "width": null
          }
        },
        "35b36b2745184e24965414fa0b4853a4": {
          "model_module": "@jupyter-widgets/base",
          "model_name": "LayoutModel",
          "model_module_version": "1.2.0",
          "state": {
            "_model_module": "@jupyter-widgets/base",
            "_model_module_version": "1.2.0",
            "_model_name": "LayoutModel",
            "_view_count": null,
            "_view_module": "@jupyter-widgets/base",
            "_view_module_version": "1.2.0",
            "_view_name": "LayoutView",
            "align_content": null,
            "align_items": null,
            "align_self": null,
            "border": null,
            "bottom": null,
            "display": null,
            "flex": null,
            "flex_flow": null,
            "grid_area": null,
            "grid_auto_columns": null,
            "grid_auto_flow": null,
            "grid_auto_rows": null,
            "grid_column": null,
            "grid_gap": null,
            "grid_row": null,
            "grid_template_areas": null,
            "grid_template_columns": null,
            "grid_template_rows": null,
            "height": null,
            "justify_content": null,
            "justify_items": null,
            "left": null,
            "margin": null,
            "max_height": null,
            "max_width": null,
            "min_height": null,
            "min_width": null,
            "object_fit": null,
            "object_position": null,
            "order": null,
            "overflow": null,
            "overflow_x": null,
            "overflow_y": null,
            "padding": null,
            "right": null,
            "top": null,
            "visibility": null,
            "width": null
          }
        },
        "cf6be50060e647c48a4f06325d6cc155": {
          "model_module": "@jupyter-widgets/controls",
          "model_name": "DescriptionStyleModel",
          "model_module_version": "1.5.0",
          "state": {
            "_model_module": "@jupyter-widgets/controls",
            "_model_module_version": "1.5.0",
            "_model_name": "DescriptionStyleModel",
            "_view_count": null,
            "_view_module": "@jupyter-widgets/base",
            "_view_module_version": "1.2.0",
            "_view_name": "StyleView",
            "description_width": ""
          }
        },
        "35dad56309f0480eacabb187efa4e8f4": {
          "model_module": "@jupyter-widgets/base",
          "model_name": "LayoutModel",
          "model_module_version": "1.2.0",
          "state": {
            "_model_module": "@jupyter-widgets/base",
            "_model_module_version": "1.2.0",
            "_model_name": "LayoutModel",
            "_view_count": null,
            "_view_module": "@jupyter-widgets/base",
            "_view_module_version": "1.2.0",
            "_view_name": "LayoutView",
            "align_content": null,
            "align_items": null,
            "align_self": null,
            "border": null,
            "bottom": null,
            "display": null,
            "flex": null,
            "flex_flow": null,
            "grid_area": null,
            "grid_auto_columns": null,
            "grid_auto_flow": null,
            "grid_auto_rows": null,
            "grid_column": null,
            "grid_gap": null,
            "grid_row": null,
            "grid_template_areas": null,
            "grid_template_columns": null,
            "grid_template_rows": null,
            "height": null,
            "justify_content": null,
            "justify_items": null,
            "left": null,
            "margin": null,
            "max_height": null,
            "max_width": null,
            "min_height": null,
            "min_width": null,
            "object_fit": null,
            "object_position": null,
            "order": null,
            "overflow": null,
            "overflow_x": null,
            "overflow_y": null,
            "padding": null,
            "right": null,
            "top": null,
            "visibility": null,
            "width": null
          }
        },
        "2a899c7807db470aa4d2d87de981acc3": {
          "model_module": "@jupyter-widgets/controls",
          "model_name": "ProgressStyleModel",
          "model_module_version": "1.5.0",
          "state": {
            "_model_module": "@jupyter-widgets/controls",
            "_model_module_version": "1.5.0",
            "_model_name": "ProgressStyleModel",
            "_view_count": null,
            "_view_module": "@jupyter-widgets/base",
            "_view_module_version": "1.2.0",
            "_view_name": "StyleView",
            "bar_color": null,
            "description_width": ""
          }
        },
        "f4a48c44edc542419ad6842785b25a04": {
          "model_module": "@jupyter-widgets/base",
          "model_name": "LayoutModel",
          "model_module_version": "1.2.0",
          "state": {
            "_model_module": "@jupyter-widgets/base",
            "_model_module_version": "1.2.0",
            "_model_name": "LayoutModel",
            "_view_count": null,
            "_view_module": "@jupyter-widgets/base",
            "_view_module_version": "1.2.0",
            "_view_name": "LayoutView",
            "align_content": null,
            "align_items": null,
            "align_self": null,
            "border": null,
            "bottom": null,
            "display": null,
            "flex": null,
            "flex_flow": null,
            "grid_area": null,
            "grid_auto_columns": null,
            "grid_auto_flow": null,
            "grid_auto_rows": null,
            "grid_column": null,
            "grid_gap": null,
            "grid_row": null,
            "grid_template_areas": null,
            "grid_template_columns": null,
            "grid_template_rows": null,
            "height": null,
            "justify_content": null,
            "justify_items": null,
            "left": null,
            "margin": null,
            "max_height": null,
            "max_width": null,
            "min_height": null,
            "min_width": null,
            "object_fit": null,
            "object_position": null,
            "order": null,
            "overflow": null,
            "overflow_x": null,
            "overflow_y": null,
            "padding": null,
            "right": null,
            "top": null,
            "visibility": null,
            "width": null
          }
        },
        "647f1441740c47fd99dd7302c19dcf99": {
          "model_module": "@jupyter-widgets/controls",
          "model_name": "DescriptionStyleModel",
          "model_module_version": "1.5.0",
          "state": {
            "_model_module": "@jupyter-widgets/controls",
            "_model_module_version": "1.5.0",
            "_model_name": "DescriptionStyleModel",
            "_view_count": null,
            "_view_module": "@jupyter-widgets/base",
            "_view_module_version": "1.2.0",
            "_view_name": "StyleView",
            "description_width": ""
          }
        },
        "16edff6800cf40f89b239ca6b14d90b3": {
          "model_module": "@jupyter-widgets/controls",
          "model_name": "HBoxModel",
          "model_module_version": "1.5.0",
          "state": {
            "_dom_classes": [],
            "_model_module": "@jupyter-widgets/controls",
            "_model_module_version": "1.5.0",
            "_model_name": "HBoxModel",
            "_view_count": null,
            "_view_module": "@jupyter-widgets/controls",
            "_view_module_version": "1.5.0",
            "_view_name": "HBoxView",
            "box_style": "",
            "children": [
              "IPY_MODEL_7a0d7d2cb7e5431894d52de542ea143c",
              "IPY_MODEL_96d6f0d0e9d24e6aaf4104163378e7a4",
              "IPY_MODEL_b1244a58878f47fb94ec7218d6eb9230"
            ],
            "layout": "IPY_MODEL_77cc9beb372b4eaeb2a733cfe7acb9aa"
          }
        },
        "7a0d7d2cb7e5431894d52de542ea143c": {
          "model_module": "@jupyter-widgets/controls",
          "model_name": "HTMLModel",
          "model_module_version": "1.5.0",
          "state": {
            "_dom_classes": [],
            "_model_module": "@jupyter-widgets/controls",
            "_model_module_version": "1.5.0",
            "_model_name": "HTMLModel",
            "_view_count": null,
            "_view_module": "@jupyter-widgets/controls",
            "_view_module_version": "1.5.0",
            "_view_name": "HTMLView",
            "description": "",
            "description_tooltip": null,
            "layout": "IPY_MODEL_aa2dcbb49cf54ba7a171dd12744184f3",
            "placeholder": "​",
            "style": "IPY_MODEL_b0dd179b86944168bd4867f8bb377d2c",
            "value": "Downloading: 100%"
          }
        },
        "96d6f0d0e9d24e6aaf4104163378e7a4": {
          "model_module": "@jupyter-widgets/controls",
          "model_name": "FloatProgressModel",
          "model_module_version": "1.5.0",
          "state": {
            "_dom_classes": [],
            "_model_module": "@jupyter-widgets/controls",
            "_model_module_version": "1.5.0",
            "_model_name": "FloatProgressModel",
            "_view_count": null,
            "_view_module": "@jupyter-widgets/controls",
            "_view_module_version": "1.5.0",
            "_view_name": "ProgressView",
            "bar_style": "success",
            "description": "",
            "description_tooltip": null,
            "layout": "IPY_MODEL_15135959d7a845a384946687b5751d9d",
            "max": 1856,
            "min": 0,
            "orientation": "horizontal",
            "style": "IPY_MODEL_d2264c0047bc401ab5a971641f755036",
            "value": 1856
          }
        },
        "b1244a58878f47fb94ec7218d6eb9230": {
          "model_module": "@jupyter-widgets/controls",
          "model_name": "HTMLModel",
          "model_module_version": "1.5.0",
          "state": {
            "_dom_classes": [],
            "_model_module": "@jupyter-widgets/controls",
            "_model_module_version": "1.5.0",
            "_model_name": "HTMLModel",
            "_view_count": null,
            "_view_module": "@jupyter-widgets/controls",
            "_view_module_version": "1.5.0",
            "_view_name": "HTMLView",
            "description": "",
            "description_tooltip": null,
            "layout": "IPY_MODEL_ef2d2239296747ce90dad3b866a92e00",
            "placeholder": "​",
            "style": "IPY_MODEL_60ef5ec2af7a4b548f247b8cb0ecc457",
            "value": " 1.86k/1.86k [00:00&lt;00:00, 24.2kB/s]"
          }
        },
        "77cc9beb372b4eaeb2a733cfe7acb9aa": {
          "model_module": "@jupyter-widgets/base",
          "model_name": "LayoutModel",
          "model_module_version": "1.2.0",
          "state": {
            "_model_module": "@jupyter-widgets/base",
            "_model_module_version": "1.2.0",
            "_model_name": "LayoutModel",
            "_view_count": null,
            "_view_module": "@jupyter-widgets/base",
            "_view_module_version": "1.2.0",
            "_view_name": "LayoutView",
            "align_content": null,
            "align_items": null,
            "align_self": null,
            "border": null,
            "bottom": null,
            "display": null,
            "flex": null,
            "flex_flow": null,
            "grid_area": null,
            "grid_auto_columns": null,
            "grid_auto_flow": null,
            "grid_auto_rows": null,
            "grid_column": null,
            "grid_gap": null,
            "grid_row": null,
            "grid_template_areas": null,
            "grid_template_columns": null,
            "grid_template_rows": null,
            "height": null,
            "justify_content": null,
            "justify_items": null,
            "left": null,
            "margin": null,
            "max_height": null,
            "max_width": null,
            "min_height": null,
            "min_width": null,
            "object_fit": null,
            "object_position": null,
            "order": null,
            "overflow": null,
            "overflow_x": null,
            "overflow_y": null,
            "padding": null,
            "right": null,
            "top": null,
            "visibility": null,
            "width": null
          }
        },
        "aa2dcbb49cf54ba7a171dd12744184f3": {
          "model_module": "@jupyter-widgets/base",
          "model_name": "LayoutModel",
          "model_module_version": "1.2.0",
          "state": {
            "_model_module": "@jupyter-widgets/base",
            "_model_module_version": "1.2.0",
            "_model_name": "LayoutModel",
            "_view_count": null,
            "_view_module": "@jupyter-widgets/base",
            "_view_module_version": "1.2.0",
            "_view_name": "LayoutView",
            "align_content": null,
            "align_items": null,
            "align_self": null,
            "border": null,
            "bottom": null,
            "display": null,
            "flex": null,
            "flex_flow": null,
            "grid_area": null,
            "grid_auto_columns": null,
            "grid_auto_flow": null,
            "grid_auto_rows": null,
            "grid_column": null,
            "grid_gap": null,
            "grid_row": null,
            "grid_template_areas": null,
            "grid_template_columns": null,
            "grid_template_rows": null,
            "height": null,
            "justify_content": null,
            "justify_items": null,
            "left": null,
            "margin": null,
            "max_height": null,
            "max_width": null,
            "min_height": null,
            "min_width": null,
            "object_fit": null,
            "object_position": null,
            "order": null,
            "overflow": null,
            "overflow_x": null,
            "overflow_y": null,
            "padding": null,
            "right": null,
            "top": null,
            "visibility": null,
            "width": null
          }
        },
        "b0dd179b86944168bd4867f8bb377d2c": {
          "model_module": "@jupyter-widgets/controls",
          "model_name": "DescriptionStyleModel",
          "model_module_version": "1.5.0",
          "state": {
            "_model_module": "@jupyter-widgets/controls",
            "_model_module_version": "1.5.0",
            "_model_name": "DescriptionStyleModel",
            "_view_count": null,
            "_view_module": "@jupyter-widgets/base",
            "_view_module_version": "1.2.0",
            "_view_name": "StyleView",
            "description_width": ""
          }
        },
        "15135959d7a845a384946687b5751d9d": {
          "model_module": "@jupyter-widgets/base",
          "model_name": "LayoutModel",
          "model_module_version": "1.2.0",
          "state": {
            "_model_module": "@jupyter-widgets/base",
            "_model_module_version": "1.2.0",
            "_model_name": "LayoutModel",
            "_view_count": null,
            "_view_module": "@jupyter-widgets/base",
            "_view_module_version": "1.2.0",
            "_view_name": "LayoutView",
            "align_content": null,
            "align_items": null,
            "align_self": null,
            "border": null,
            "bottom": null,
            "display": null,
            "flex": null,
            "flex_flow": null,
            "grid_area": null,
            "grid_auto_columns": null,
            "grid_auto_flow": null,
            "grid_auto_rows": null,
            "grid_column": null,
            "grid_gap": null,
            "grid_row": null,
            "grid_template_areas": null,
            "grid_template_columns": null,
            "grid_template_rows": null,
            "height": null,
            "justify_content": null,
            "justify_items": null,
            "left": null,
            "margin": null,
            "max_height": null,
            "max_width": null,
            "min_height": null,
            "min_width": null,
            "object_fit": null,
            "object_position": null,
            "order": null,
            "overflow": null,
            "overflow_x": null,
            "overflow_y": null,
            "padding": null,
            "right": null,
            "top": null,
            "visibility": null,
            "width": null
          }
        },
        "d2264c0047bc401ab5a971641f755036": {
          "model_module": "@jupyter-widgets/controls",
          "model_name": "ProgressStyleModel",
          "model_module_version": "1.5.0",
          "state": {
            "_model_module": "@jupyter-widgets/controls",
            "_model_module_version": "1.5.0",
            "_model_name": "ProgressStyleModel",
            "_view_count": null,
            "_view_module": "@jupyter-widgets/base",
            "_view_module_version": "1.2.0",
            "_view_name": "StyleView",
            "bar_color": null,
            "description_width": ""
          }
        },
        "ef2d2239296747ce90dad3b866a92e00": {
          "model_module": "@jupyter-widgets/base",
          "model_name": "LayoutModel",
          "model_module_version": "1.2.0",
          "state": {
            "_model_module": "@jupyter-widgets/base",
            "_model_module_version": "1.2.0",
            "_model_name": "LayoutModel",
            "_view_count": null,
            "_view_module": "@jupyter-widgets/base",
            "_view_module_version": "1.2.0",
            "_view_name": "LayoutView",
            "align_content": null,
            "align_items": null,
            "align_self": null,
            "border": null,
            "bottom": null,
            "display": null,
            "flex": null,
            "flex_flow": null,
            "grid_area": null,
            "grid_auto_columns": null,
            "grid_auto_flow": null,
            "grid_auto_rows": null,
            "grid_column": null,
            "grid_gap": null,
            "grid_row": null,
            "grid_template_areas": null,
            "grid_template_columns": null,
            "grid_template_rows": null,
            "height": null,
            "justify_content": null,
            "justify_items": null,
            "left": null,
            "margin": null,
            "max_height": null,
            "max_width": null,
            "min_height": null,
            "min_width": null,
            "object_fit": null,
            "object_position": null,
            "order": null,
            "overflow": null,
            "overflow_x": null,
            "overflow_y": null,
            "padding": null,
            "right": null,
            "top": null,
            "visibility": null,
            "width": null
          }
        },
        "60ef5ec2af7a4b548f247b8cb0ecc457": {
          "model_module": "@jupyter-widgets/controls",
          "model_name": "DescriptionStyleModel",
          "model_module_version": "1.5.0",
          "state": {
            "_model_module": "@jupyter-widgets/controls",
            "_model_module_version": "1.5.0",
            "_model_name": "DescriptionStyleModel",
            "_view_count": null,
            "_view_module": "@jupyter-widgets/base",
            "_view_module_version": "1.2.0",
            "_view_name": "StyleView",
            "description_width": ""
          }
        }
      }
    }
  },
  "cells": [
    {
      "cell_type": "markdown",
      "source": [
        "# **VidQuest**\n",
        "###*This NoteBook will use a YouTube video link to create some multiple-choice questions depending on the content of the video.*\n",
        "\n",
        "1.   Mariam Salman (19L-1239)\n",
        "1.   Mirza Zain Ali Nasir (19L-2277)\n",
        "1.   Faseeh Ullah Jafar (19L-2273)\n",
        "2.   Bilal Sardar (19L-1232)\n",
        "\n",
        "\n",
        "\n",
        "\n",
        "\n",
        "\n",
        "\n",
        "\n"
      ],
      "metadata": {
        "id": "k_uEq1yKvMVi"
      }
    },
    {
      "cell_type": "markdown",
      "source": [
        "# **link to text**"
      ],
      "metadata": {
        "id": "l2lX_2_0hx4F"
      }
    },
    {
      "cell_type": "code",
      "execution_count": 13,
      "metadata": {
        "colab": {
          "base_uri": "https://localhost:8080/"
        },
        "id": "Z3SBgu7xX9kp",
        "outputId": "808fcc6e-e07f-4385-a117-4f26eff37381"
      },
      "outputs": [
        {
          "output_type": "stream",
          "name": "stdout",
          "text": [
            "Looking in indexes: https://pypi.org/simple, https://us-python.pkg.dev/colab-wheels/public/simple/\n",
            "Requirement already satisfied: youtube-dl in /usr/local/lib/python3.7/dist-packages (2021.12.17)\n",
            "Requirement already satisfied: SpeechRecognition in /usr/local/lib/python3.7/dist-packages (3.8.1)\n",
            "Requirement already satisfied: imageio==2.4.1 in /usr/local/lib/python3.7/dist-packages (2.4.1)\n",
            "Requirement already satisfied: pydub in /usr/local/lib/python3.7/dist-packages (0.25.1)\n",
            "Requirement already satisfied: pillow in /usr/local/lib/python3.7/dist-packages (from imageio==2.4.1) (7.1.2)\n",
            "Requirement already satisfied: numpy in /usr/local/lib/python3.7/dist-packages (from imageio==2.4.1) (1.21.6)\n"
          ]
        }
      ],
      "source": [
        "pip install youtube-dl SpeechRecognition imageio==2.4.1 pydub"
      ]
    },
    {
      "cell_type": "code",
      "source": [
        "import os\n",
        "from pathlib import Path\n",
        "from pydub import AudioSegment\n",
        "from pydub.utils import make_chunks\n",
        "import os\n",
        "import warnings\n",
        "import speech_recognition as sr\n",
        "warnings.filterwarnings(\"ignore\")"
      ],
      "metadata": {
        "id": "YIBgxRugujPw"
      },
      "execution_count": 14,
      "outputs": []
    },
    {
      "cell_type": "code",
      "source": [
        "def Process_audio(fileName):\n",
        "\n",
        "  txtf=open(\"The_audio.txt\",\"w+\")\n",
        "  myaudio=AudioSegment.from_wav(fileName)\n",
        "  chunks_length_ms=8000\n",
        "  chunks=make_chunks(myaudio,chunks_length_ms)\n",
        "  for i, chunk in enumerate(chunks):\n",
        "    chunkName='./chunked/'+fileName+\"_{0}.wav\".format(i)\n",
        "    print(\"I am Exporting\",chunkName)\n",
        "    chunk.export(chunkName,format=\"wav\")\n",
        "    File=chunkName\n",
        "    r= sr.Recognizer()\n",
        "    with sr.AudioFile(File) as source:\n",
        "      audio_listened=r.listen(source)\n",
        "\n",
        "    try:\n",
        "      rec=r.recognize_google(audio_listened)\n",
        "      txtf.write(rec+\".\")\n",
        "\n",
        "    except sr.UnknownValueError:\n",
        "      print(\"I dont recognize your audio\")\n",
        "    except sr.RequestError as e:\n",
        "      print(\"could not get result\")\n",
        "\n",
        "try:\n",
        "  os.makedirs(\"chunked\")\n",
        "except:\n",
        "  pass\n"
      ],
      "metadata": {
        "id": "etib8OPmun7I"
      },
      "execution_count": 15,
      "outputs": []
    },
    {
      "cell_type": "code",
      "source": [
        "def UrlToAudio(VideoUrl):\n",
        "  url=VideoUrl\n",
        "  os.system(\"youtube-dl -x --audio-format wav \" + url)\n",
        "  # load audio and pad/trim it to fit 30 seconds\n",
        "  base_path = Path(r\"\")\n",
        "  for wav_file_path in base_path.glob(\"*.wav\"):\n",
        "      Process_audio(str(wav_file_path))\n",
        "      break"
      ],
      "metadata": {
        "id": "_pP1nE8QtAOY"
      },
      "execution_count": 16,
      "outputs": []
    },
    {
      "cell_type": "markdown",
      "source": [
        "# **MCQs**"
      ],
      "metadata": {
        "id": "BqScMUbg7LEM"
      }
    },
    {
      "cell_type": "markdown",
      "source": [
        "## **Libraries**"
      ],
      "metadata": {
        "id": "8Mnys20gEc_l"
      }
    },
    {
      "cell_type": "code",
      "source": [
        "!pip install --quiet transformers\n",
        "!pip install --quiet sentencepiece\n",
        "!pip install --quiet textwrap3\n",
        "!pip install --quiet nltk"
      ],
      "metadata": {
        "id": "9muKXNB07N_T",
        "colab": {
          "base_uri": "https://localhost:8080/"
        },
        "outputId": "171f225b-e9ef-499d-979b-c62046e94764"
      },
      "execution_count": 17,
      "outputs": [
        {
          "output_type": "stream",
          "name": "stdout",
          "text": [
            "\u001b[K     |████████████████████████████████| 5.3 MB 5.2 MB/s \n",
            "\u001b[K     |████████████████████████████████| 7.6 MB 44.2 MB/s \n",
            "\u001b[K     |████████████████████████████████| 163 kB 86.0 MB/s \n",
            "\u001b[K     |████████████████████████████████| 1.3 MB 5.1 MB/s \n",
            "\u001b[?25h"
          ]
        }
      ]
    },
    {
      "cell_type": "code",
      "source": [
        "!pip install --quiet ipython-autotime\n",
        "%load_ext autotime"
      ],
      "metadata": {
        "colab": {
          "base_uri": "https://localhost:8080/"
        },
        "id": "Is37cGo1C82w",
        "outputId": "a7463a00-c0ef-4454-8f5e-681adbac56e8"
      },
      "execution_count": 18,
      "outputs": [
        {
          "output_type": "stream",
          "name": "stdout",
          "text": [
            "\u001b[?25l\r\u001b[K     |▏                               | 10 kB 20.6 MB/s eta 0:00:01\r\u001b[K     |▍                               | 20 kB 6.9 MB/s eta 0:00:01\r\u001b[K     |▋                               | 30 kB 9.6 MB/s eta 0:00:01\r\u001b[K     |▉                               | 40 kB 4.4 MB/s eta 0:00:01\r\u001b[K     |█                               | 51 kB 4.7 MB/s eta 0:00:01\r\u001b[K     |█▎                              | 61 kB 5.5 MB/s eta 0:00:01\r\u001b[K     |█▌                              | 71 kB 5.4 MB/s eta 0:00:01\r\u001b[K     |█▊                              | 81 kB 5.4 MB/s eta 0:00:01\r\u001b[K     |█▉                              | 92 kB 6.0 MB/s eta 0:00:01\r\u001b[K     |██                              | 102 kB 5.1 MB/s eta 0:00:01\r\u001b[K     |██▎                             | 112 kB 5.1 MB/s eta 0:00:01\r\u001b[K     |██▌                             | 122 kB 5.1 MB/s eta 0:00:01\r\u001b[K     |██▊                             | 133 kB 5.1 MB/s eta 0:00:01\r\u001b[K     |███                             | 143 kB 5.1 MB/s eta 0:00:01\r\u001b[K     |███▏                            | 153 kB 5.1 MB/s eta 0:00:01\r\u001b[K     |███▍                            | 163 kB 5.1 MB/s eta 0:00:01\r\u001b[K     |███▌                            | 174 kB 5.1 MB/s eta 0:00:01\r\u001b[K     |███▊                            | 184 kB 5.1 MB/s eta 0:00:01\r\u001b[K     |████                            | 194 kB 5.1 MB/s eta 0:00:01\r\u001b[K     |████▏                           | 204 kB 5.1 MB/s eta 0:00:01\r\u001b[K     |████▍                           | 215 kB 5.1 MB/s eta 0:00:01\r\u001b[K     |████▋                           | 225 kB 5.1 MB/s eta 0:00:01\r\u001b[K     |████▉                           | 235 kB 5.1 MB/s eta 0:00:01\r\u001b[K     |█████                           | 245 kB 5.1 MB/s eta 0:00:01\r\u001b[K     |█████▎                          | 256 kB 5.1 MB/s eta 0:00:01\r\u001b[K     |█████▍                          | 266 kB 5.1 MB/s eta 0:00:01\r\u001b[K     |█████▋                          | 276 kB 5.1 MB/s eta 0:00:01\r\u001b[K     |█████▉                          | 286 kB 5.1 MB/s eta 0:00:01\r\u001b[K     |██████                          | 296 kB 5.1 MB/s eta 0:00:01\r\u001b[K     |██████▎                         | 307 kB 5.1 MB/s eta 0:00:01\r\u001b[K     |██████▌                         | 317 kB 5.1 MB/s eta 0:00:01\r\u001b[K     |██████▊                         | 327 kB 5.1 MB/s eta 0:00:01\r\u001b[K     |███████                         | 337 kB 5.1 MB/s eta 0:00:01\r\u001b[K     |███████                         | 348 kB 5.1 MB/s eta 0:00:01\r\u001b[K     |███████▎                        | 358 kB 5.1 MB/s eta 0:00:01\r\u001b[K     |███████▌                        | 368 kB 5.1 MB/s eta 0:00:01\r\u001b[K     |███████▊                        | 378 kB 5.1 MB/s eta 0:00:01\r\u001b[K     |████████                        | 389 kB 5.1 MB/s eta 0:00:01\r\u001b[K     |████████▏                       | 399 kB 5.1 MB/s eta 0:00:01\r\u001b[K     |████████▍                       | 409 kB 5.1 MB/s eta 0:00:01\r\u001b[K     |████████▋                       | 419 kB 5.1 MB/s eta 0:00:01\r\u001b[K     |████████▉                       | 430 kB 5.1 MB/s eta 0:00:01\r\u001b[K     |█████████                       | 440 kB 5.1 MB/s eta 0:00:01\r\u001b[K     |█████████▏                      | 450 kB 5.1 MB/s eta 0:00:01\r\u001b[K     |█████████▍                      | 460 kB 5.1 MB/s eta 0:00:01\r\u001b[K     |█████████▋                      | 471 kB 5.1 MB/s eta 0:00:01\r\u001b[K     |█████████▉                      | 481 kB 5.1 MB/s eta 0:00:01\r\u001b[K     |██████████                      | 491 kB 5.1 MB/s eta 0:00:01\r\u001b[K     |██████████▎                     | 501 kB 5.1 MB/s eta 0:00:01\r\u001b[K     |██████████▌                     | 512 kB 5.1 MB/s eta 0:00:01\r\u001b[K     |██████████▋                     | 522 kB 5.1 MB/s eta 0:00:01\r\u001b[K     |██████████▉                     | 532 kB 5.1 MB/s eta 0:00:01\r\u001b[K     |███████████                     | 542 kB 5.1 MB/s eta 0:00:01\r\u001b[K     |███████████▎                    | 552 kB 5.1 MB/s eta 0:00:01\r\u001b[K     |███████████▌                    | 563 kB 5.1 MB/s eta 0:00:01\r\u001b[K     |███████████▊                    | 573 kB 5.1 MB/s eta 0:00:01\r\u001b[K     |████████████                    | 583 kB 5.1 MB/s eta 0:00:01\r\u001b[K     |████████████▏                   | 593 kB 5.1 MB/s eta 0:00:01\r\u001b[K     |████████████▍                   | 604 kB 5.1 MB/s eta 0:00:01\r\u001b[K     |████████████▌                   | 614 kB 5.1 MB/s eta 0:00:01\r\u001b[K     |████████████▊                   | 624 kB 5.1 MB/s eta 0:00:01\r\u001b[K     |█████████████                   | 634 kB 5.1 MB/s eta 0:00:01\r\u001b[K     |█████████████▏                  | 645 kB 5.1 MB/s eta 0:00:01\r\u001b[K     |█████████████▍                  | 655 kB 5.1 MB/s eta 0:00:01\r\u001b[K     |█████████████▋                  | 665 kB 5.1 MB/s eta 0:00:01\r\u001b[K     |█████████████▉                  | 675 kB 5.1 MB/s eta 0:00:01\r\u001b[K     |██████████████                  | 686 kB 5.1 MB/s eta 0:00:01\r\u001b[K     |██████████████▏                 | 696 kB 5.1 MB/s eta 0:00:01\r\u001b[K     |██████████████▍                 | 706 kB 5.1 MB/s eta 0:00:01\r\u001b[K     |██████████████▋                 | 716 kB 5.1 MB/s eta 0:00:01\r\u001b[K     |██████████████▉                 | 727 kB 5.1 MB/s eta 0:00:01\r\u001b[K     |███████████████                 | 737 kB 5.1 MB/s eta 0:00:01\r\u001b[K     |███████████████▎                | 747 kB 5.1 MB/s eta 0:00:01\r\u001b[K     |███████████████▌                | 757 kB 5.1 MB/s eta 0:00:01\r\u001b[K     |███████████████▊                | 768 kB 5.1 MB/s eta 0:00:01\r\u001b[K     |████████████████                | 778 kB 5.1 MB/s eta 0:00:01\r\u001b[K     |████████████████                | 788 kB 5.1 MB/s eta 0:00:01\r\u001b[K     |████████████████▎               | 798 kB 5.1 MB/s eta 0:00:01\r\u001b[K     |████████████████▌               | 808 kB 5.1 MB/s eta 0:00:01\r\u001b[K     |████████████████▊               | 819 kB 5.1 MB/s eta 0:00:01\r\u001b[K     |█████████████████               | 829 kB 5.1 MB/s eta 0:00:01\r\u001b[K     |█████████████████▏              | 839 kB 5.1 MB/s eta 0:00:01\r\u001b[K     |█████████████████▍              | 849 kB 5.1 MB/s eta 0:00:01\r\u001b[K     |█████████████████▋              | 860 kB 5.1 MB/s eta 0:00:01\r\u001b[K     |█████████████████▊              | 870 kB 5.1 MB/s eta 0:00:01\r\u001b[K     |██████████████████              | 880 kB 5.1 MB/s eta 0:00:01\r\u001b[K     |██████████████████▏             | 890 kB 5.1 MB/s eta 0:00:01\r\u001b[K     |██████████████████▍             | 901 kB 5.1 MB/s eta 0:00:01\r\u001b[K     |██████████████████▋             | 911 kB 5.1 MB/s eta 0:00:01\r\u001b[K     |██████████████████▉             | 921 kB 5.1 MB/s eta 0:00:01\r\u001b[K     |███████████████████             | 931 kB 5.1 MB/s eta 0:00:01\r\u001b[K     |███████████████████▎            | 942 kB 5.1 MB/s eta 0:00:01\r\u001b[K     |███████████████████▌            | 952 kB 5.1 MB/s eta 0:00:01\r\u001b[K     |███████████████████▋            | 962 kB 5.1 MB/s eta 0:00:01\r\u001b[K     |███████████████████▉            | 972 kB 5.1 MB/s eta 0:00:01\r\u001b[K     |████████████████████            | 983 kB 5.1 MB/s eta 0:00:01\r\u001b[K     |████████████████████▎           | 993 kB 5.1 MB/s eta 0:00:01\r\u001b[K     |████████████████████▌           | 1.0 MB 5.1 MB/s eta 0:00:01\r\u001b[K     |████████████████████▊           | 1.0 MB 5.1 MB/s eta 0:00:01\r\u001b[K     |█████████████████████           | 1.0 MB 5.1 MB/s eta 0:00:01\r\u001b[K     |█████████████████████▏          | 1.0 MB 5.1 MB/s eta 0:00:01\r\u001b[K     |█████████████████████▎          | 1.0 MB 5.1 MB/s eta 0:00:01\r\u001b[K     |█████████████████████▌          | 1.1 MB 5.1 MB/s eta 0:00:01\r\u001b[K     |█████████████████████▊          | 1.1 MB 5.1 MB/s eta 0:00:01\r\u001b[K     |██████████████████████          | 1.1 MB 5.1 MB/s eta 0:00:01\r\u001b[K     |██████████████████████▏         | 1.1 MB 5.1 MB/s eta 0:00:01\r\u001b[K     |██████████████████████▍         | 1.1 MB 5.1 MB/s eta 0:00:01\r\u001b[K     |██████████████████████▋         | 1.1 MB 5.1 MB/s eta 0:00:01\r\u001b[K     |██████████████████████▉         | 1.1 MB 5.1 MB/s eta 0:00:01\r\u001b[K     |███████████████████████         | 1.1 MB 5.1 MB/s eta 0:00:01\r\u001b[K     |███████████████████████▏        | 1.1 MB 5.1 MB/s eta 0:00:01\r\u001b[K     |███████████████████████▍        | 1.1 MB 5.1 MB/s eta 0:00:01\r\u001b[K     |███████████████████████▋        | 1.2 MB 5.1 MB/s eta 0:00:01\r\u001b[K     |███████████████████████▉        | 1.2 MB 5.1 MB/s eta 0:00:01\r\u001b[K     |████████████████████████        | 1.2 MB 5.1 MB/s eta 0:00:01\r\u001b[K     |████████████████████████▎       | 1.2 MB 5.1 MB/s eta 0:00:01\r\u001b[K     |████████████████████████▌       | 1.2 MB 5.1 MB/s eta 0:00:01\r\u001b[K     |████████████████████████▊       | 1.2 MB 5.1 MB/s eta 0:00:01\r\u001b[K     |████████████████████████▉       | 1.2 MB 5.1 MB/s eta 0:00:01\r\u001b[K     |█████████████████████████       | 1.2 MB 5.1 MB/s eta 0:00:01\r\u001b[K     |█████████████████████████▎      | 1.2 MB 5.1 MB/s eta 0:00:01\r\u001b[K     |█████████████████████████▌      | 1.2 MB 5.1 MB/s eta 0:00:01\r\u001b[K     |█████████████████████████▊      | 1.3 MB 5.1 MB/s eta 0:00:01\r\u001b[K     |██████████████████████████      | 1.3 MB 5.1 MB/s eta 0:00:01\r\u001b[K     |██████████████████████████▏     | 1.3 MB 5.1 MB/s eta 0:00:01\r\u001b[K     |██████████████████████████▍     | 1.3 MB 5.1 MB/s eta 0:00:01\r\u001b[K     |██████████████████████████▌     | 1.3 MB 5.1 MB/s eta 0:00:01\r\u001b[K     |██████████████████████████▊     | 1.3 MB 5.1 MB/s eta 0:00:01\r\u001b[K     |███████████████████████████     | 1.3 MB 5.1 MB/s eta 0:00:01\r\u001b[K     |███████████████████████████▏    | 1.3 MB 5.1 MB/s eta 0:00:01\r\u001b[K     |███████████████████████████▍    | 1.3 MB 5.1 MB/s eta 0:00:01\r\u001b[K     |███████████████████████████▋    | 1.4 MB 5.1 MB/s eta 0:00:01\r\u001b[K     |███████████████████████████▉    | 1.4 MB 5.1 MB/s eta 0:00:01\r\u001b[K     |████████████████████████████    | 1.4 MB 5.1 MB/s eta 0:00:01\r\u001b[K     |████████████████████████████▎   | 1.4 MB 5.1 MB/s eta 0:00:01\r\u001b[K     |████████████████████████████▍   | 1.4 MB 5.1 MB/s eta 0:00:01\r\u001b[K     |████████████████████████████▋   | 1.4 MB 5.1 MB/s eta 0:00:01\r\u001b[K     |████████████████████████████▉   | 1.4 MB 5.1 MB/s eta 0:00:01\r\u001b[K     |█████████████████████████████   | 1.4 MB 5.1 MB/s eta 0:00:01\r\u001b[K     |█████████████████████████████▎  | 1.4 MB 5.1 MB/s eta 0:00:01\r\u001b[K     |█████████████████████████████▌  | 1.4 MB 5.1 MB/s eta 0:00:01\r\u001b[K     |█████████████████████████████▊  | 1.5 MB 5.1 MB/s eta 0:00:01\r\u001b[K     |██████████████████████████████  | 1.5 MB 5.1 MB/s eta 0:00:01\r\u001b[K     |██████████████████████████████  | 1.5 MB 5.1 MB/s eta 0:00:01\r\u001b[K     |██████████████████████████████▎ | 1.5 MB 5.1 MB/s eta 0:00:01\r\u001b[K     |██████████████████████████████▌ | 1.5 MB 5.1 MB/s eta 0:00:01\r\u001b[K     |██████████████████████████████▊ | 1.5 MB 5.1 MB/s eta 0:00:01\r\u001b[K     |███████████████████████████████ | 1.5 MB 5.1 MB/s eta 0:00:01\r\u001b[K     |███████████████████████████████▏| 1.5 MB 5.1 MB/s eta 0:00:01\r\u001b[K     |███████████████████████████████▍| 1.5 MB 5.1 MB/s eta 0:00:01\r\u001b[K     |███████████████████████████████▋| 1.5 MB 5.1 MB/s eta 0:00:01\r\u001b[K     |███████████████████████████████▉| 1.6 MB 5.1 MB/s eta 0:00:01\r\u001b[K     |████████████████████████████████| 1.6 MB 5.1 MB/s eta 0:00:01\r\u001b[K     |████████████████████████████████| 1.6 MB 5.1 MB/s \n",
            "\u001b[?25htime: 411 µs (started: 2022-10-30 07:13:37 +00:00)\n"
          ]
        }
      ]
    },
    {
      "cell_type": "markdown",
      "source": [
        "## **summraizer**"
      ],
      "metadata": {
        "id": "FL4wBDwyDCH3"
      }
    },
    {
      "cell_type": "code",
      "source": [
        "import torch\n",
        "from transformers import T5ForConditionalGeneration,T5Tokenizer\n",
        "summary_model = T5ForConditionalGeneration.from_pretrained('t5-base')\n",
        "summary_tokenizer = T5Tokenizer.from_pretrained('t5-base')\n",
        "\n",
        "device = torch.device(\"cuda\" if torch.cuda.is_available() else \"cpu\")\n",
        "summary_model = summary_model.to(device)\n"
      ],
      "metadata": {
        "id": "bpSgWrmXDBar",
        "colab": {
          "base_uri": "https://localhost:8080/",
          "height": 0,
          "referenced_widgets": [
            "09e6fdd00f6140a2b8bddcb73991226e",
            "ce603e45793b4db6a2ed6b06bafabb78",
            "a908678cd7ac4b7e812612cf9096866a",
            "56e633b77dd74653849184cd6f79beac",
            "5fa443086d804c86872c84f4c5c2d76c",
            "d8e38a1add2f482c90cd66311c09d170",
            "6128d1f827f64df19805308d7ddaeb13",
            "1123b8c94eef43d1a0dd5f810f32f07b",
            "acaae25d6e074e91bb39df36839c91dd",
            "5c4b5bb1b09345ed9127d22ff12099fb",
            "430798488a1b4a2f93abbae9939e72f9",
            "cf8106ef434f482f89ffb38d1935aa04",
            "c335eddcf24643e694da9b540aafabbb",
            "88cfe238169843da81341ccf57626234",
            "48deff63264846acb2d6c43e072b9afc",
            "be9f14ad124d43bbb2e05a14aea85ffc",
            "cb3ff89977c3441e8d2ca629d2eb588d",
            "f08fde815e59434884afb4d298002519",
            "98e0f66e57784337991f920340569413",
            "3d4edc2ed75f46318211254c50d98139",
            "93ecaa500d334ea2b2705aad16ab5117",
            "c352690e5d3c44709bf4cb69c177c0d8",
            "ac06f9ca5a7e4530b99cff02d81dd798",
            "7a2aa4e2b4c24f5084c422e6daed0d22",
            "502dfed669554121808317434fdfa5ec",
            "23b8f29b2f2549d8be50d9d0657e1699",
            "15255da08b014ca59f36a85129198310",
            "9d17689965ff4fe291107c7396edac44",
            "3a7520c4d7554377a6d9701b11a9ac70",
            "eb17a121776a4d17b178e69d61c6eaea",
            "d407f32c96c84ec59a5bd9647cad96eb",
            "ab72cf22deac4487be6fe35fe55ca34b",
            "a8fa898b23384168a0b02780de21492c"
          ]
        },
        "outputId": "a0ab42bf-0118-4dec-a032-85f765bf9f1e"
      },
      "execution_count": 19,
      "outputs": [
        {
          "output_type": "display_data",
          "data": {
            "text/plain": [
              "Downloading:   0%|          | 0.00/1.20k [00:00<?, ?B/s]"
            ],
            "application/vnd.jupyter.widget-view+json": {
              "version_major": 2,
              "version_minor": 0,
              "model_id": "09e6fdd00f6140a2b8bddcb73991226e"
            }
          },
          "metadata": {}
        },
        {
          "output_type": "display_data",
          "data": {
            "text/plain": [
              "Downloading:   0%|          | 0.00/892M [00:00<?, ?B/s]"
            ],
            "application/vnd.jupyter.widget-view+json": {
              "version_major": 2,
              "version_minor": 0,
              "model_id": "cf8106ef434f482f89ffb38d1935aa04"
            }
          },
          "metadata": {}
        },
        {
          "output_type": "display_data",
          "data": {
            "text/plain": [
              "Downloading:   0%|          | 0.00/792k [00:00<?, ?B/s]"
            ],
            "application/vnd.jupyter.widget-view+json": {
              "version_major": 2,
              "version_minor": 0,
              "model_id": "ac06f9ca5a7e4530b99cff02d81dd798"
            }
          },
          "metadata": {}
        },
        {
          "output_type": "stream",
          "name": "stdout",
          "text": [
            "time: 38.1 s (started: 2022-10-30 07:13:37 +00:00)\n"
          ]
        }
      ]
    },
    {
      "cell_type": "code",
      "source": [
        "import random\n",
        "import numpy as np\n",
        "\n",
        "def set_seed(seed: int):\n",
        "    random.seed(seed)\n",
        "    np.random.seed(seed)\n",
        "    torch.manual_seed(seed)\n",
        "    torch.cuda.manual_seed_all(seed)\n",
        "\n",
        "set_seed(42)"
      ],
      "metadata": {
        "id": "56hbhL8eDI8e",
        "colab": {
          "base_uri": "https://localhost:8080/"
        },
        "outputId": "1c5c143b-d9a7-4870-df81-cbb3d1435234"
      },
      "execution_count": 20,
      "outputs": [
        {
          "output_type": "stream",
          "name": "stdout",
          "text": [
            "time: 3.45 ms (started: 2022-10-30 07:14:15 +00:00)\n"
          ]
        }
      ]
    },
    {
      "cell_type": "code",
      "source": [
        "import nltk\n",
        "nltk.download('punkt')\n",
        "nltk.download('brown')\n",
        "nltk.download('wordnet')\n",
        "from nltk.corpus import wordnet as wn\n",
        "from nltk.tokenize import sent_tokenize\n",
        "from textwrap3 import wrap\n",
        "\n",
        "def postprocesstext (content):\n",
        "  final=\"\"\n",
        "  for sent in sent_tokenize(content):\n",
        "    sent = sent.capitalize()\n",
        "    final = final +\" \"+sent\n",
        "  return final\n",
        "\n",
        "\n",
        "def summarizer(text,model,tokenizer):\n",
        "  text = text.strip().replace(\"\\n\",\" \")\n",
        "  text = \"summarize: \"+text\n",
        "  # print (text)\n",
        "  max_len = 512\n",
        "  encoding = tokenizer.encode_plus(text,max_length=max_len, pad_to_max_length=False,truncation=True, return_tensors=\"pt\").to(device)\n",
        "\n",
        "  input_ids, attention_mask = encoding[\"input_ids\"], encoding[\"attention_mask\"]\n",
        "\n",
        "  outs = model.generate(input_ids=input_ids,\n",
        "                                  attention_mask=attention_mask,\n",
        "                                  early_stopping=True,\n",
        "                                  num_beams=3,\n",
        "                                  num_return_sequences=1,\n",
        "                                  no_repeat_ngram_size=2,\n",
        "                                  min_length = 75,\n",
        "                                  max_length=300)\n",
        "\n",
        "\n",
        "  dec = [tokenizer.decode(ids,skip_special_tokens=True) for ids in outs]\n",
        "  summary = dec[0]\n",
        "  summary = postprocesstext(summary)\n",
        "  summary= summary.strip()\n",
        "\n",
        "  return summary\n",
        "\n"
      ],
      "metadata": {
        "colab": {
          "base_uri": "https://localhost:8080/"
        },
        "id": "NGZMLWjxDOSi",
        "outputId": "9adce4a2-9342-4ade-d8c4-777f14468160"
      },
      "execution_count": 21,
      "outputs": [
        {
          "output_type": "stream",
          "name": "stderr",
          "text": [
            "[nltk_data] Downloading package punkt to /root/nltk_data...\n",
            "[nltk_data]   Unzipping tokenizers/punkt.zip.\n",
            "[nltk_data] Downloading package brown to /root/nltk_data...\n",
            "[nltk_data]   Unzipping corpora/brown.zip.\n"
          ]
        },
        {
          "output_type": "stream",
          "name": "stdout",
          "text": [
            "time: 2.69 s (started: 2022-10-30 07:14:15 +00:00)\n"
          ]
        },
        {
          "output_type": "stream",
          "name": "stderr",
          "text": [
            "[nltk_data] Downloading package wordnet to /root/nltk_data...\n"
          ]
        }
      ]
    },
    {
      "cell_type": "markdown",
      "source": [
        "## **answer Keywords**"
      ],
      "metadata": {
        "id": "9ll1WzEJEOTR"
      }
    },
    {
      "cell_type": "code",
      "source": [
        "!pip install --quiet git+https://github.com/boudinfl/pke.git@dc4d5f21e0ffe64c4df93c46146d29d1c522476b\n",
        "!pip install --quiet flashtext==2.7"
      ],
      "metadata": {
        "id": "8r3nDSMqDe3v",
        "colab": {
          "base_uri": "https://localhost:8080/"
        },
        "outputId": "4bd4307a-f39c-4944-8754-a5d619cd7b1d"
      },
      "execution_count": 22,
      "outputs": [
        {
          "output_type": "stream",
          "name": "stdout",
          "text": [
            "\u001b[?25l\r\u001b[K     |█▍                              | 10 kB 6.3 MB/s eta 0:00:01\r\u001b[K     |██▉                             | 20 kB 3.1 MB/s eta 0:00:01\r\u001b[K     |████▏                           | 30 kB 4.5 MB/s eta 0:00:01\r\u001b[K     |█████▋                          | 40 kB 3.7 MB/s eta 0:00:01\r\u001b[K     |███████                         | 51 kB 3.9 MB/s eta 0:00:01\r\u001b[K     |████████▍                       | 61 kB 4.6 MB/s eta 0:00:01\r\u001b[K     |█████████▊                      | 71 kB 4.6 MB/s eta 0:00:01\r\u001b[K     |███████████▏                    | 81 kB 5.2 MB/s eta 0:00:01\r\u001b[K     |████████████▌                   | 92 kB 4.9 MB/s eta 0:00:01\r\u001b[K     |██████████████                  | 102 kB 4.9 MB/s eta 0:00:01\r\u001b[K     |███████████████▎                | 112 kB 4.9 MB/s eta 0:00:01\r\u001b[K     |████████████████▊               | 122 kB 4.9 MB/s eta 0:00:01\r\u001b[K     |██████████████████              | 133 kB 4.9 MB/s eta 0:00:01\r\u001b[K     |███████████████████▌            | 143 kB 4.9 MB/s eta 0:00:01\r\u001b[K     |████████████████████▉           | 153 kB 4.9 MB/s eta 0:00:01\r\u001b[K     |██████████████████████▎         | 163 kB 4.9 MB/s eta 0:00:01\r\u001b[K     |███████████████████████▋        | 174 kB 4.9 MB/s eta 0:00:01\r\u001b[K     |█████████████████████████       | 184 kB 4.9 MB/s eta 0:00:01\r\u001b[K     |██████████████████████████▍     | 194 kB 4.9 MB/s eta 0:00:01\r\u001b[K     |███████████████████████████▉    | 204 kB 4.9 MB/s eta 0:00:01\r\u001b[K     |█████████████████████████████▏  | 215 kB 4.9 MB/s eta 0:00:01\r\u001b[K     |██████████████████████████████▋ | 225 kB 4.9 MB/s eta 0:00:01\r\u001b[K     |████████████████████████████████| 235 kB 4.9 MB/s eta 0:00:01\r\u001b[K     |████████████████████████████████| 235 kB 4.9 MB/s \n",
            "\u001b[?25h  Building wheel for pke (setup.py) ... \u001b[?25l\u001b[?25hdone\n",
            "  Building wheel for sklearn (setup.py) ... \u001b[?25l\u001b[?25hdone\n",
            "  Building wheel for flashtext (setup.py) ... \u001b[?25l\u001b[?25hdone\n",
            "time: 30.5 s (started: 2022-10-30 07:14:18 +00:00)\n"
          ]
        }
      ]
    },
    {
      "cell_type": "code",
      "source": [
        "pip install git+https://github.com/boudinfl/pke.git"
      ],
      "metadata": {
        "id": "8jzmTGpB4e-0",
        "colab": {
          "base_uri": "https://localhost:8080/"
        },
        "outputId": "250f5de6-da94-494c-8da1-22c25c3e7815"
      },
      "execution_count": 23,
      "outputs": [
        {
          "output_type": "stream",
          "name": "stdout",
          "text": [
            "Looking in indexes: https://pypi.org/simple, https://us-python.pkg.dev/colab-wheels/public/simple/\n",
            "Collecting git+https://github.com/boudinfl/pke.git\n",
            "  Cloning https://github.com/boudinfl/pke.git to /tmp/pip-req-build-9xwlfn_l\n",
            "  Running command git clone -q https://github.com/boudinfl/pke.git /tmp/pip-req-build-9xwlfn_l\n",
            "Requirement already satisfied: nltk in /usr/local/lib/python3.7/dist-packages (from pke==2.0.0) (3.7)\n",
            "Requirement already satisfied: networkx in /usr/local/lib/python3.7/dist-packages (from pke==2.0.0) (2.6.3)\n",
            "Requirement already satisfied: numpy in /usr/local/lib/python3.7/dist-packages (from pke==2.0.0) (1.21.6)\n",
            "Requirement already satisfied: scipy in /usr/local/lib/python3.7/dist-packages (from pke==2.0.0) (1.7.3)\n",
            "Requirement already satisfied: sklearn in /usr/local/lib/python3.7/dist-packages (from pke==2.0.0) (0.0)\n",
            "Requirement already satisfied: unidecode in /usr/local/lib/python3.7/dist-packages (from pke==2.0.0) (1.3.6)\n",
            "Requirement already satisfied: future in /usr/local/lib/python3.7/dist-packages (from pke==2.0.0) (0.16.0)\n",
            "Requirement already satisfied: joblib in /usr/local/lib/python3.7/dist-packages (from pke==2.0.0) (1.2.0)\n",
            "Requirement already satisfied: spacy>=3.2.3 in /usr/local/lib/python3.7/dist-packages (from pke==2.0.0) (3.4.2)\n",
            "Requirement already satisfied: cymem<2.1.0,>=2.0.2 in /usr/local/lib/python3.7/dist-packages (from spacy>=3.2.3->pke==2.0.0) (2.0.7)\n",
            "Requirement already satisfied: srsly<3.0.0,>=2.4.3 in /usr/local/lib/python3.7/dist-packages (from spacy>=3.2.3->pke==2.0.0) (2.4.5)\n",
            "Requirement already satisfied: packaging>=20.0 in /usr/local/lib/python3.7/dist-packages (from spacy>=3.2.3->pke==2.0.0) (21.3)\n",
            "Requirement already satisfied: tqdm<5.0.0,>=4.38.0 in /usr/local/lib/python3.7/dist-packages (from spacy>=3.2.3->pke==2.0.0) (4.64.1)\n",
            "Requirement already satisfied: langcodes<4.0.0,>=3.2.0 in /usr/local/lib/python3.7/dist-packages (from spacy>=3.2.3->pke==2.0.0) (3.3.0)\n",
            "Requirement already satisfied: murmurhash<1.1.0,>=0.28.0 in /usr/local/lib/python3.7/dist-packages (from spacy>=3.2.3->pke==2.0.0) (1.0.9)\n",
            "Requirement already satisfied: typing-extensions<4.2.0,>=3.7.4 in /usr/local/lib/python3.7/dist-packages (from spacy>=3.2.3->pke==2.0.0) (4.1.1)\n",
            "Requirement already satisfied: catalogue<2.1.0,>=2.0.6 in /usr/local/lib/python3.7/dist-packages (from spacy>=3.2.3->pke==2.0.0) (2.0.8)\n",
            "Requirement already satisfied: wasabi<1.1.0,>=0.9.1 in /usr/local/lib/python3.7/dist-packages (from spacy>=3.2.3->pke==2.0.0) (0.10.1)\n",
            "Requirement already satisfied: setuptools in /usr/local/lib/python3.7/dist-packages (from spacy>=3.2.3->pke==2.0.0) (57.4.0)\n",
            "Requirement already satisfied: spacy-loggers<2.0.0,>=1.0.0 in /usr/local/lib/python3.7/dist-packages (from spacy>=3.2.3->pke==2.0.0) (1.0.3)\n",
            "Requirement already satisfied: jinja2 in /usr/local/lib/python3.7/dist-packages (from spacy>=3.2.3->pke==2.0.0) (2.11.3)\n",
            "Requirement already satisfied: preshed<3.1.0,>=3.0.2 in /usr/local/lib/python3.7/dist-packages (from spacy>=3.2.3->pke==2.0.0) (3.0.8)\n",
            "Requirement already satisfied: typer<0.5.0,>=0.3.0 in /usr/local/lib/python3.7/dist-packages (from spacy>=3.2.3->pke==2.0.0) (0.4.2)\n",
            "Requirement already satisfied: spacy-legacy<3.1.0,>=3.0.10 in /usr/local/lib/python3.7/dist-packages (from spacy>=3.2.3->pke==2.0.0) (3.0.10)\n",
            "Requirement already satisfied: pydantic!=1.8,!=1.8.1,<1.11.0,>=1.7.4 in /usr/local/lib/python3.7/dist-packages (from spacy>=3.2.3->pke==2.0.0) (1.10.2)\n",
            "Requirement already satisfied: pathy>=0.3.5 in /usr/local/lib/python3.7/dist-packages (from spacy>=3.2.3->pke==2.0.0) (0.6.2)\n",
            "Requirement already satisfied: requests<3.0.0,>=2.13.0 in /usr/local/lib/python3.7/dist-packages (from spacy>=3.2.3->pke==2.0.0) (2.23.0)\n",
            "Requirement already satisfied: thinc<8.2.0,>=8.1.0 in /usr/local/lib/python3.7/dist-packages (from spacy>=3.2.3->pke==2.0.0) (8.1.5)\n",
            "Requirement already satisfied: zipp>=0.5 in /usr/local/lib/python3.7/dist-packages (from catalogue<2.1.0,>=2.0.6->spacy>=3.2.3->pke==2.0.0) (3.9.0)\n",
            "Requirement already satisfied: pyparsing!=3.0.5,>=2.0.2 in /usr/local/lib/python3.7/dist-packages (from packaging>=20.0->spacy>=3.2.3->pke==2.0.0) (3.0.9)\n",
            "Requirement already satisfied: smart-open<6.0.0,>=5.2.1 in /usr/local/lib/python3.7/dist-packages (from pathy>=0.3.5->spacy>=3.2.3->pke==2.0.0) (5.2.1)\n",
            "Requirement already satisfied: idna<3,>=2.5 in /usr/local/lib/python3.7/dist-packages (from requests<3.0.0,>=2.13.0->spacy>=3.2.3->pke==2.0.0) (2.10)\n",
            "Requirement already satisfied: certifi>=2017.4.17 in /usr/local/lib/python3.7/dist-packages (from requests<3.0.0,>=2.13.0->spacy>=3.2.3->pke==2.0.0) (2022.9.24)\n",
            "Requirement already satisfied: chardet<4,>=3.0.2 in /usr/local/lib/python3.7/dist-packages (from requests<3.0.0,>=2.13.0->spacy>=3.2.3->pke==2.0.0) (3.0.4)\n",
            "Requirement already satisfied: urllib3!=1.25.0,!=1.25.1,<1.26,>=1.21.1 in /usr/local/lib/python3.7/dist-packages (from requests<3.0.0,>=2.13.0->spacy>=3.2.3->pke==2.0.0) (1.24.3)\n",
            "Requirement already satisfied: confection<1.0.0,>=0.0.1 in /usr/local/lib/python3.7/dist-packages (from thinc<8.2.0,>=8.1.0->spacy>=3.2.3->pke==2.0.0) (0.0.3)\n",
            "Requirement already satisfied: blis<0.8.0,>=0.7.8 in /usr/local/lib/python3.7/dist-packages (from thinc<8.2.0,>=8.1.0->spacy>=3.2.3->pke==2.0.0) (0.7.9)\n",
            "Requirement already satisfied: click<9.0.0,>=7.1.1 in /usr/local/lib/python3.7/dist-packages (from typer<0.5.0,>=0.3.0->spacy>=3.2.3->pke==2.0.0) (7.1.2)\n",
            "Requirement already satisfied: MarkupSafe>=0.23 in /usr/local/lib/python3.7/dist-packages (from jinja2->spacy>=3.2.3->pke==2.0.0) (2.0.1)\n",
            "Requirement already satisfied: regex>=2021.8.3 in /usr/local/lib/python3.7/dist-packages (from nltk->pke==2.0.0) (2022.6.2)\n",
            "Requirement already satisfied: scikit-learn in /usr/local/lib/python3.7/dist-packages (from sklearn->pke==2.0.0) (1.0.2)\n",
            "Requirement already satisfied: threadpoolctl>=2.0.0 in /usr/local/lib/python3.7/dist-packages (from scikit-learn->sklearn->pke==2.0.0) (3.1.0)\n",
            "Building wheels for collected packages: pke\n",
            "  Building wheel for pke (setup.py) ... \u001b[?25l\u001b[?25hdone\n",
            "  Created wheel for pke: filename=pke-2.0.0-py3-none-any.whl size=6160276 sha256=353e831317b87c563d19da811f138a565568f616630d62e7aa692b6db23e1082\n",
            "  Stored in directory: /tmp/pip-ephem-wheel-cache-gn3fwnis/wheels/fa/b3/09/612ee93bf3ee4164bcd5783e742942cdfc892a86039d3e0a33\n",
            "Successfully built pke\n",
            "Installing collected packages: pke\n",
            "  Attempting uninstall: pke\n",
            "    Found existing installation: pke 1.8.1\n",
            "    Uninstalling pke-1.8.1:\n",
            "      Successfully uninstalled pke-1.8.1\n",
            "Successfully installed pke-2.0.0\n",
            "time: 13.3 s (started: 2022-10-30 07:14:48 +00:00)\n"
          ]
        }
      ]
    },
    {
      "cell_type": "code",
      "source": [
        "import nltk\n",
        "nltk.download('stopwords')\n",
        "from nltk.corpus import stopwords\n",
        "import string\n",
        "import pke\n",
        "import traceback\n",
        "\n",
        "\n",
        "def get_nouns_multipartite(content):\n",
        "    out=[]\n",
        "    try:\n",
        "        extractor = pke.unsupervised.MultipartiteRank()\n",
        "        \n",
        "        #    not contain punctuation marks or stopwords as candidates.\n",
        "        pos = {'PROPN','NOUN'}\n",
        "        #pos = {'PROPN','NOUN'}\n",
        "        stoplist = list(string.punctuation)\n",
        "        stoplist += ['-lrb-', '-rrb-', '-lcb-', '-rcb-', '-lsb-', '-rsb-']\n",
        "        stoplist += stopwords.words('english')\n",
        "\n",
        "        extractor.load_document(input=content,language='en',\n",
        "                        stoplist=stoplist,\n",
        "                        normalization=None)\n",
        "        \n",
        "        extractor.candidate_selection(pos=pos)\n",
        "        # 4. build the Multipartite graph and rank candidates using random walk,\n",
        "        #    alpha controls the weight adjustment mechanism, see TopicRank for\n",
        "        #    threshold/method parameters.\n",
        "        extractor.candidate_weighting(alpha=1.1,\n",
        "                                      threshold=0.75,\n",
        "                                      method='average')\n",
        "        keyphrases = extractor.get_n_best(n=15)\n",
        "        \n",
        "\n",
        "        for val in keyphrases:\n",
        "            out.append(val[0])\n",
        "    except:\n",
        "        out = []\n",
        "        traceback.print_exc()\n",
        "\n",
        "    return out"
      ],
      "metadata": {
        "colab": {
          "base_uri": "https://localhost:8080/"
        },
        "id": "dDk41nIBElM9",
        "outputId": "5fe2553a-2506-4b8c-c02a-8985439d4d13"
      },
      "execution_count": 24,
      "outputs": [
        {
          "output_type": "stream",
          "name": "stderr",
          "text": [
            "[nltk_data] Downloading package stopwords to /root/nltk_data...\n",
            "[nltk_data]   Unzipping corpora/stopwords.zip.\n"
          ]
        },
        {
          "output_type": "stream",
          "name": "stdout",
          "text": [
            "time: 16.6 s (started: 2022-10-30 07:15:02 +00:00)\n"
          ]
        }
      ]
    },
    {
      "cell_type": "code",
      "source": [
        "from flashtext import KeywordProcessor\n",
        "\n",
        "\n",
        "def get_keywords(originaltext,summarytext):\n",
        "  keywords = get_nouns_multipartite(originaltext)\n",
        "  print (\"keywords unsummarized: \",keywords)\n",
        "  keyword_processor = KeywordProcessor()\n",
        "  for keyword in keywords:\n",
        "    keyword_processor.add_keyword(keyword)\n",
        "\n",
        "  keywords_found = keyword_processor.extract_keywords(summarytext)\n",
        "  keywords_found = list(set(keywords_found))\n",
        "  print (\"keywords_found in summarized: \",keywords_found)\n",
        "\n",
        "  important_keywords =[]\n",
        "  for keyword in keywords:\n",
        "    if keyword in keywords_found:\n",
        "      important_keywords.append(keyword)\n",
        "\n",
        "  return important_keywords[:4]\n",
        "\n",
        "\n"
      ],
      "metadata": {
        "id": "txXxbH6iEtHz",
        "colab": {
          "base_uri": "https://localhost:8080/"
        },
        "outputId": "415b2413-63bb-4504-8fe7-01c4a23be599"
      },
      "execution_count": 25,
      "outputs": [
        {
          "output_type": "stream",
          "name": "stdout",
          "text": [
            "time: 20.7 ms (started: 2022-10-30 07:15:18 +00:00)\n"
          ]
        }
      ]
    },
    {
      "cell_type": "markdown",
      "source": [
        "## **Question Generation**"
      ],
      "metadata": {
        "id": "G-zLBL_8GDDQ"
      }
    },
    {
      "cell_type": "code",
      "source": [
        "question_model = T5ForConditionalGeneration.from_pretrained('ramsrigouthamg/t5_squad_v1')\n",
        "question_tokenizer = T5Tokenizer.from_pretrained('ramsrigouthamg/t5_squad_v1')\n",
        "question_model = question_model.to(device)"
      ],
      "metadata": {
        "id": "wIM0fj8NJMqu",
        "colab": {
          "base_uri": "https://localhost:8080/",
          "height": 0,
          "referenced_widgets": [
            "3b9c36eac1494cf181c676996090af56",
            "6e30a75494604f379e50cb36da6887e7",
            "e5caf29f7300496b89fd8fc2bd6c5493",
            "a13663892a8e4721b468397720092058",
            "5e067ea0407441cda77f1491c215ad4c",
            "bf0fe01e604a42e985557dd9080edb5b",
            "99989edaa071485b8a146808c3a2a8c7",
            "1836b0c775e343bcae1dffbf97d7005e",
            "3635c0d41c71422caf47a7b22091e26a",
            "e064d9ea43114befb30810bc0b917d96",
            "1e6ad5821f774487a4a3c5577540d74d",
            "1bfb4be0cf6b40458b6b11c9f2699055",
            "b2d58bac57324c5eb862029c542929ce",
            "a2f9c4b93552473caeb7d63b536a3df4",
            "223e42daa0df4fc7aed9d4ab661f67bb",
            "e222fb17a4434c838360516a22bed627",
            "f6840024775b46eb8e65c93d00423f81",
            "44cc664209ce427a8ce541ce4b81f445",
            "fb6f464442ce49429492d0c7d962efa1",
            "c036c19b75b842e6862543d648effd90",
            "508e752d51f34d60a2ec97feef7d425b",
            "fc0e67f6ffcd448082b426beee020c3a",
            "422f96a8478b46568ca26162001f8786",
            "37700f51f99649bf9f6466c840473afb",
            "ab3ff0d0512043a6a1830d4005eb4f49",
            "c4982908eab94df88544527b65cbe83e",
            "f7676d1d592e489badd42451beb6fa37",
            "cb6fb63b232b42f6b389293cc8476926",
            "6880af3df4324c51abbcc42ba44add03",
            "85a6f22e7cd6460f8f929e39c3703212",
            "8983b2a5b2294ab589828cac9f763b50",
            "18db02a3d90e4caf9725f52548899121",
            "fb6cb7591ef24161ac19d5ae37f08338",
            "e72706dc1979499697b6edee14aa284d",
            "e46d73ed8383415a98571851fae94f8e",
            "a3228eab1064484f95676d71c71db954",
            "476ae5bc6a14452798ece7fe9d1b67be",
            "99de48f634574db7b56baa93eb3a4a1f",
            "35b36b2745184e24965414fa0b4853a4",
            "cf6be50060e647c48a4f06325d6cc155",
            "35dad56309f0480eacabb187efa4e8f4",
            "2a899c7807db470aa4d2d87de981acc3",
            "f4a48c44edc542419ad6842785b25a04",
            "647f1441740c47fd99dd7302c19dcf99",
            "16edff6800cf40f89b239ca6b14d90b3",
            "7a0d7d2cb7e5431894d52de542ea143c",
            "96d6f0d0e9d24e6aaf4104163378e7a4",
            "b1244a58878f47fb94ec7218d6eb9230",
            "77cc9beb372b4eaeb2a733cfe7acb9aa",
            "aa2dcbb49cf54ba7a171dd12744184f3",
            "b0dd179b86944168bd4867f8bb377d2c",
            "15135959d7a845a384946687b5751d9d",
            "d2264c0047bc401ab5a971641f755036",
            "ef2d2239296747ce90dad3b866a92e00",
            "60ef5ec2af7a4b548f247b8cb0ecc457"
          ]
        },
        "outputId": "902f121f-1af8-4d11-c6ce-e22822669de7"
      },
      "execution_count": 26,
      "outputs": [
        {
          "output_type": "display_data",
          "data": {
            "text/plain": [
              "Downloading:   0%|          | 0.00/1.21k [00:00<?, ?B/s]"
            ],
            "application/vnd.jupyter.widget-view+json": {
              "version_major": 2,
              "version_minor": 0,
              "model_id": "3b9c36eac1494cf181c676996090af56"
            }
          },
          "metadata": {}
        },
        {
          "output_type": "display_data",
          "data": {
            "text/plain": [
              "Downloading:   0%|          | 0.00/892M [00:00<?, ?B/s]"
            ],
            "application/vnd.jupyter.widget-view+json": {
              "version_major": 2,
              "version_minor": 0,
              "model_id": "1bfb4be0cf6b40458b6b11c9f2699055"
            }
          },
          "metadata": {}
        },
        {
          "output_type": "display_data",
          "data": {
            "text/plain": [
              "Downloading:   0%|          | 0.00/792k [00:00<?, ?B/s]"
            ],
            "application/vnd.jupyter.widget-view+json": {
              "version_major": 2,
              "version_minor": 0,
              "model_id": "422f96a8478b46568ca26162001f8786"
            }
          },
          "metadata": {}
        },
        {
          "output_type": "display_data",
          "data": {
            "text/plain": [
              "Downloading:   0%|          | 0.00/1.79k [00:00<?, ?B/s]"
            ],
            "application/vnd.jupyter.widget-view+json": {
              "version_major": 2,
              "version_minor": 0,
              "model_id": "e72706dc1979499697b6edee14aa284d"
            }
          },
          "metadata": {}
        },
        {
          "output_type": "display_data",
          "data": {
            "text/plain": [
              "Downloading:   0%|          | 0.00/1.86k [00:00<?, ?B/s]"
            ],
            "application/vnd.jupyter.widget-view+json": {
              "version_major": 2,
              "version_minor": 0,
              "model_id": "16edff6800cf40f89b239ca6b14d90b3"
            }
          },
          "metadata": {}
        },
        {
          "output_type": "stream",
          "name": "stdout",
          "text": [
            "time: 43.1 s (started: 2022-10-30 07:15:18 +00:00)\n"
          ]
        }
      ]
    },
    {
      "cell_type": "code",
      "source": [
        "def get_question(context,answer,model,tokenizer):\n",
        "  text = \"context: {} answer: {}\".format(context,answer)\n",
        "  encoding = tokenizer.encode_plus(text,max_length=384, pad_to_max_length=False,truncation=True, return_tensors=\"pt\").to(device)\n",
        "  input_ids, attention_mask = encoding[\"input_ids\"], encoding[\"attention_mask\"]\n",
        "\n",
        "  outs = model.generate(input_ids=input_ids,\n",
        "                                  attention_mask=attention_mask,\n",
        "                                  early_stopping=True,\n",
        "                                  num_beams=5,\n",
        "                                  num_return_sequences=1,\n",
        "                                  no_repeat_ngram_size=2,\n",
        "                                  max_length=72)\n",
        "\n",
        "\n",
        "  dec = [tokenizer.decode(ids,skip_special_tokens=True) for ids in outs]\n",
        "\n",
        "\n",
        "  Question = dec[0].replace(\"question:\",\"\")\n",
        "  Question= Question.strip()\n",
        "  return Question\n",
        "\n",
        "\n"
      ],
      "metadata": {
        "id": "2775hL9WJPMw",
        "colab": {
          "base_uri": "https://localhost:8080/"
        },
        "outputId": "d9d7ffbb-ced4-455e-a9ce-4ac299e43482"
      },
      "execution_count": 27,
      "outputs": [
        {
          "output_type": "stream",
          "name": "stdout",
          "text": [
            "time: 3.01 ms (started: 2022-10-30 07:16:01 +00:00)\n"
          ]
        }
      ]
    },
    {
      "cell_type": "markdown",
      "source": [
        "## **Distractors**"
      ],
      "metadata": {
        "id": "D0JYBhtIJp_C"
      }
    },
    {
      "cell_type": "code",
      "source": [
        "from collections import OrderedDict\n",
        "from sklearn.metrics.pairwise import cosine_similarity\n",
        "\n",
        "def get_distractors_wordnet(word):\n",
        "    distractors=[]\n",
        "    try:\n",
        "      syn = wn.synsets(word,'n')[0]\n",
        "      \n",
        "      word= word.lower()\n",
        "      orig_word = word\n",
        "      if len(word.split())>0:\n",
        "          word = word.replace(\" \",\"_\")\n",
        "      hypernym = syn.hypernyms()\n",
        "      if len(hypernym) == 0: \n",
        "          return distractors\n",
        "      for item in hypernym[0].hyponyms():\n",
        "          name = item.lemmas()[0].name()\n",
        "          #print (\"name \",name, \" word\",orig_word)\n",
        "          if name == orig_word:\n",
        "              continue\n",
        "          name = name.replace(\"_\",\" \")\n",
        "          name = \" \".join(w.capitalize() for w in name.split())\n",
        "          if name is not None and name not in distractors:\n",
        "              distractors.append(name)\n",
        "    except:\n",
        "      print (\"Wordnet distractors not found\")\n",
        "    return distractors\n"
      ],
      "metadata": {
        "id": "MzdajvKcotl-",
        "colab": {
          "base_uri": "https://localhost:8080/"
        },
        "outputId": "a5039b88-7081-4381-8ae0-2ba328ab2255"
      },
      "execution_count": 28,
      "outputs": [
        {
          "output_type": "stream",
          "name": "stdout",
          "text": [
            "time: 3.62 ms (started: 2022-10-30 07:16:01 +00:00)\n"
          ]
        }
      ]
    },
    {
      "cell_type": "code",
      "source": [],
      "metadata": {
        "colab": {
          "base_uri": "https://localhost:8080/"
        },
        "id": "SvOqX-LsZjPr",
        "outputId": "684c8f2d-d72d-40a2-f02f-4bcdc398d01a"
      },
      "execution_count": 28,
      "outputs": [
        {
          "output_type": "stream",
          "name": "stdout",
          "text": [
            "time: 25.9 ms (started: 2022-10-30 07:16:01 +00:00)\n"
          ]
        }
      ]
    },
    {
      "cell_type": "markdown",
      "source": [
        "### Distractors"
      ],
      "metadata": {
        "id": "QZ3YsysjG5iC"
      }
    },
    {
      "cell_type": "code",
      "source": [
        "import gensim\n",
        "from gensim.test.utils import datapath, get_tmpfile\n",
        "from gensim.models import KeyedVectors"
      ],
      "metadata": {
        "id": "WMeZ4FYIG81w",
        "colab": {
          "base_uri": "https://localhost:8080/"
        },
        "outputId": "5ea00768-2872-4dfc-81b2-2906de714f3f"
      },
      "execution_count": 29,
      "outputs": [
        {
          "output_type": "stream",
          "name": "stdout",
          "text": [
            "time: 305 ms (started: 2022-10-30 07:16:01 +00:00)\n"
          ]
        }
      ]
    },
    {
      "cell_type": "code",
      "source": [
        "from google.colab import drive\n",
        "drive.mount('/content/gdrive')\n",
        "glove_file = 'gdrive/My Drive/distractors/glove.6B.300d.txt'\n",
        "tmp_file = 'gdrive/My Drive/distractors/word2vec-glove.6B.300d.txt'"
      ],
      "metadata": {
        "colab": {
          "base_uri": "https://localhost:8080/"
        },
        "id": "6ay9dlGFHBh1",
        "outputId": "aceb8a8f-354a-45a0-bd96-273a4b46aaea"
      },
      "execution_count": 30,
      "outputs": [
        {
          "output_type": "stream",
          "name": "stdout",
          "text": [
            "Mounted at /content/gdrive\n",
            "time: 20.1 s (started: 2022-10-30 07:16:02 +00:00)\n"
          ]
        }
      ]
    },
    {
      "cell_type": "code",
      "source": [
        "import os\n",
        "\n",
        "if not os.path.isfile(glove_file):\n",
        "    print(\"Glove embeddings not found. Please download and place them in the following path: \" + glove_file)"
      ],
      "metadata": {
        "id": "3LHr2cnAOG6V",
        "colab": {
          "base_uri": "https://localhost:8080/"
        },
        "outputId": "267ad997-3e1d-4a23-d571-605acb6e299b"
      },
      "execution_count": 31,
      "outputs": [
        {
          "output_type": "stream",
          "name": "stdout",
          "text": [
            "time: 220 ms (started: 2022-10-30 07:16:22 +00:00)\n"
          ]
        }
      ]
    },
    {
      "cell_type": "code",
      "source": [
        "from gensim.scripts.glove2word2vec import glove2word2vec\n",
        "glove2word2vec(glove_file, tmp_file)\n",
        "model = KeyedVectors.load_word2vec_format(tmp_file)"
      ],
      "metadata": {
        "id": "V-zHNzcgONaY",
        "colab": {
          "base_uri": "https://localhost:8080/"
        },
        "outputId": "af736569-aad3-4a6d-cb2a-f32f641103c9"
      },
      "execution_count": 32,
      "outputs": [
        {
          "output_type": "stream",
          "name": "stdout",
          "text": [
            "time: 1min 49s (started: 2022-10-30 07:16:22 +00:00)\n"
          ]
        }
      ]
    },
    {
      "cell_type": "code",
      "source": [
        "model.most_similar(positive=['love'], topn=10)"
      ],
      "metadata": {
        "colab": {
          "base_uri": "https://localhost:8080/"
        },
        "id": "NalnbcqHOUAX",
        "outputId": "d1fc93c5-a520-4b17-b8ef-c21704138026"
      },
      "execution_count": 33,
      "outputs": [
        {
          "output_type": "execute_result",
          "data": {
            "text/plain": [
              "[('loves', 0.6420263051986694),\n",
              " ('passion', 0.6261469125747681),\n",
              " ('loved', 0.595270574092865),\n",
              " ('romantic', 0.5921086668968201),\n",
              " ('lovers', 0.5904368162155151),\n",
              " ('lover', 0.5841912031173706),\n",
              " ('you', 0.5837852954864502),\n",
              " ('me', 0.5835772752761841),\n",
              " ('affection', 0.5818219184875488),\n",
              " ('always', 0.5701121687889099)]"
            ]
          },
          "metadata": {},
          "execution_count": 33
        },
        {
          "output_type": "stream",
          "name": "stdout",
          "text": [
            "time: 2.06 s (started: 2022-10-30 07:18:12 +00:00)\n"
          ]
        }
      ]
    },
    {
      "cell_type": "code",
      "source": [
        "def generate_distractors(answer, count):\n",
        "    answer = str.lower(answer)\n",
        "    \n",
        "    ##Extracting closest words for the answer. \n",
        "    try:\n",
        "        closestWords = model.most_similar(positive=[answer], topn=count)\n",
        "    except:\n",
        "        #In case the word is not in the vocabulary, or other problem not loading embeddings\n",
        "        return []\n",
        "\n",
        "    #Return count many distractors\n",
        "    distractors = list(map(lambda x: x[0], closestWords))[0:count]\n",
        "    \n",
        "    return distractors"
      ],
      "metadata": {
        "id": "uVty7BCFOZUM",
        "colab": {
          "base_uri": "https://localhost:8080/"
        },
        "outputId": "36c426d7-6849-4efd-c427-cdf1a930fd04"
      },
      "execution_count": 34,
      "outputs": [
        {
          "output_type": "stream",
          "name": "stdout",
          "text": [
            "time: 1.69 ms (started: 2022-10-30 07:18:14 +00:00)\n"
          ]
        }
      ]
    },
    {
      "cell_type": "code",
      "source": [
        "generate_distractors('oxygen', 4)"
      ],
      "metadata": {
        "colab": {
          "base_uri": "https://localhost:8080/"
        },
        "id": "rYyI9rZhVUjw",
        "outputId": "c4fae27e-9d7d-468e-e5e5-cbbeb2fc3910"
      },
      "execution_count": 35,
      "outputs": [
        {
          "output_type": "execute_result",
          "data": {
            "text/plain": [
              "['hydrogen', 'nitrogen', 'helium', 'nutrients']"
            ]
          },
          "metadata": {},
          "execution_count": 35
        },
        {
          "output_type": "stream",
          "name": "stdout",
          "text": [
            "time: 101 ms (started: 2022-10-30 07:18:14 +00:00)\n"
          ]
        }
      ]
    },
    {
      "cell_type": "markdown",
      "source": [
        "# **Gardio app**"
      ],
      "metadata": {
        "id": "AYXt9QDWK7Bk"
      }
    },
    {
      "cell_type": "code",
      "source": [
        "pip install gradio"
      ],
      "metadata": {
        "id": "cs1R9bfaLBZ9"
      },
      "execution_count": null,
      "outputs": []
    },
    {
      "cell_type": "code",
      "source": [
        "import gradio as gr\n",
        "\n",
        "context1 = gr.inputs.Textbox(lines=10, placeholder=\"Enter link here...\")\n",
        "output = gr.outputs.HTML(  label=\"Question and Answers\")\n",
        "radiobutton = gr.inputs.Radio([\"Wordnet\", \"Gensim\"])\n",
        "\n",
        "def generate_question(context1,radiobutton):\n",
        "  UrlToAudio(context1)\n",
        "  f = open(\"The_audio.txt\", \"r\")\n",
        "  context=f.read()\n",
        "  summary_text = summarizer(context,summary_model,summary_tokenizer)\n",
        "  for wrp in wrap(summary_text, 150):\n",
        "    print (wrp)\n",
        "  # np = getnounphrases(summary_text,sentence_transformer_model,3)\n",
        "  np =  get_keywords(context,summary_text)\n",
        "  print (\"\\n\\nNoun phrases\",np)\n",
        "  output=\"\"\n",
        "  for answer in np:\n",
        "    ques = get_question(summary_text,answer,question_model,question_tokenizer)\n",
        "    if radiobutton==\"Wordnet\":\n",
        "      distractors = get_distractors_wordnet(answer)\n",
        "    else:\n",
        "      distractors = generate_distractors(answer.capitalize(),3)\n",
        "      print(distractors)\n",
        "    # output= output + ques + \"\\n\" + \"Ans: \"+answer.capitalize() + \"\\n\\n\"\n",
        "    output =\"\\n\"+ output + \"<b style='color:blue;'>\" + ques + \"</b>\"\n",
        "    # output = output + \"<br>\"\n",
        "    output =\"\\n\"+ output + \"<b style='color:green;'>\" + \"Ans: \" +answer.capitalize()+  \"</b>\"\n",
        "    if len(distractors)>0:\n",
        "      for distractor in distractors[:4]:\n",
        "        output = output + \"<b style='color:brown;'>\" + distractor+  \"</b>\\n\"\n",
        "    output = output + \"<br>\"\n",
        "\n",
        "  summary =\"Summary: \"+ summary_text\n",
        "  for answer in np:\n",
        "    summary = summary.replace(answer,\"<b>\"+answer+\"</b>\")\n",
        "    summary = summary.replace(answer.capitalize(),\"<b>\"+answer.capitalize()+\"</b>\")\n",
        "  output = output + \"<p>\"+summary+\"</p>\"\n",
        "  return output\n",
        "\n",
        "\n",
        "iface = gr.Interface(\n",
        "  fn=generate_question, \n",
        "  inputs=[context1,radiobutton],\n",
        "  title=\"VidQuest\", \n",
        "  outputs=output)\n",
        "iface.launch(debug=True)"
      ],
      "metadata": {
        "id": "vu_FtBhpK-Oj",
        "colab": {
          "base_uri": "https://localhost:8080/",
          "height": 1000
        },
        "outputId": "fd23a583-c6fa-44f2-9e86-7398f0583828"
      },
      "execution_count": 41,
      "outputs": [
        {
          "output_type": "stream",
          "name": "stdout",
          "text": [
            "Colab notebook detected. This cell will run indefinitely so that you can see errors and logs. To turn off, set debug=False in launch().\n",
            "Running on public URL: https://d34a35958ee73ff7.gradio.app\n",
            "\n",
            "This share link expires in 72 hours. For free permanent hosting and GPU upgrades (NEW!), check out Spaces: https://huggingface.co/spaces\n"
          ]
        },
        {
          "output_type": "display_data",
          "data": {
            "text/plain": [
              "<IPython.core.display.HTML object>"
            ],
            "text/html": [
              "<div><iframe src=\"https://d34a35958ee73ff7.gradio.app\" width=\"900\" height=\"500\" allow=\"autoplay; camera; microphone; clipboard-read; clipboard-write;\" frameborder=\"0\" allowfullscreen></iframe></div>"
            ]
          },
          "metadata": {}
        },
        {
          "output_type": "stream",
          "name": "stdout",
          "text": [
            "I am Exporting ./chunked/OpenAI Whisper is every Python developers dream-_xVTgdpokH4.wav_0.wav\n",
            "I am Exporting ./chunked/OpenAI Whisper is every Python developers dream-_xVTgdpokH4.wav_1.wav\n",
            "I am Exporting ./chunked/OpenAI Whisper is every Python developers dream-_xVTgdpokH4.wav_2.wav\n",
            "I am Exporting ./chunked/OpenAI Whisper is every Python developers dream-_xVTgdpokH4.wav_3.wav\n",
            "I am Exporting ./chunked/OpenAI Whisper is every Python developers dream-_xVTgdpokH4.wav_4.wav\n",
            "I am Exporting ./chunked/OpenAI Whisper is every Python developers dream-_xVTgdpokH4.wav_5.wav\n",
            "I am Exporting ./chunked/OpenAI Whisper is every Python developers dream-_xVTgdpokH4.wav_6.wav\n",
            "I am Exporting ./chunked/OpenAI Whisper is every Python developers dream-_xVTgdpokH4.wav_7.wav\n",
            "I am Exporting ./chunked/OpenAI Whisper is every Python developers dream-_xVTgdpokH4.wav_8.wav\n",
            "I am Exporting ./chunked/OpenAI Whisper is every Python developers dream-_xVTgdpokH4.wav_9.wav\n",
            "I am Exporting ./chunked/OpenAI Whisper is every Python developers dream-_xVTgdpokH4.wav_10.wav\n",
            "I am Exporting ./chunked/OpenAI Whisper is every Python developers dream-_xVTgdpokH4.wav_11.wav\n",
            "I am Exporting ./chunked/OpenAI Whisper is every Python developers dream-_xVTgdpokH4.wav_12.wav\n",
            "I am Exporting ./chunked/OpenAI Whisper is every Python developers dream-_xVTgdpokH4.wav_13.wav\n",
            "I am Exporting ./chunked/OpenAI Whisper is every Python developers dream-_xVTgdpokH4.wav_14.wav\n",
            "I am Exporting ./chunked/OpenAI Whisper is every Python developers dream-_xVTgdpokH4.wav_15.wav\n",
            "I am Exporting ./chunked/OpenAI Whisper is every Python developers dream-_xVTgdpokH4.wav_16.wav\n",
            "I am Exporting ./chunked/OpenAI Whisper is every Python developers dream-_xVTgdpokH4.wav_17.wav\n",
            "I am Exporting ./chunked/OpenAI Whisper is every Python developers dream-_xVTgdpokH4.wav_18.wav\n",
            "I am Exporting ./chunked/OpenAI Whisper is every Python developers dream-_xVTgdpokH4.wav_19.wav\n",
            "I am Exporting ./chunked/OpenAI Whisper is every Python developers dream-_xVTgdpokH4.wav_20.wav\n",
            "I am Exporting ./chunked/OpenAI Whisper is every Python developers dream-_xVTgdpokH4.wav_21.wav\n",
            "I am Exporting ./chunked/OpenAI Whisper is every Python developers dream-_xVTgdpokH4.wav_22.wav\n",
            "I am Exporting ./chunked/OpenAI Whisper is every Python developers dream-_xVTgdpokH4.wav_23.wav\n",
            "I am Exporting ./chunked/OpenAI Whisper is every Python developers dream-_xVTgdpokH4.wav_24.wav\n",
            "I am Exporting ./chunked/OpenAI Whisper is every Python developers dream-_xVTgdpokH4.wav_25.wav\n",
            "I am Exporting ./chunked/OpenAI Whisper is every Python developers dream-_xVTgdpokH4.wav_26.wav\n",
            "I am Exporting ./chunked/OpenAI Whisper is every Python developers dream-_xVTgdpokH4.wav_27.wav\n",
            "I am Exporting ./chunked/OpenAI Whisper is every Python developers dream-_xVTgdpokH4.wav_28.wav\n",
            "I am Exporting ./chunked/OpenAI Whisper is every Python developers dream-_xVTgdpokH4.wav_29.wav\n",
            "I am Exporting ./chunked/OpenAI Whisper is every Python developers dream-_xVTgdpokH4.wav_30.wav\n",
            "I am Exporting ./chunked/OpenAI Whisper is every Python developers dream-_xVTgdpokH4.wav_31.wav\n",
            "I am Exporting ./chunked/OpenAI Whisper is every Python developers dream-_xVTgdpokH4.wav_32.wav\n",
            "I am Exporting ./chunked/OpenAI Whisper is every Python developers dream-_xVTgdpokH4.wav_33.wav\n",
            "I am Exporting ./chunked/OpenAI Whisper is every Python developers dream-_xVTgdpokH4.wav_34.wav\n",
            "I am Exporting ./chunked/OpenAI Whisper is every Python developers dream-_xVTgdpokH4.wav_35.wav\n",
            "I am Exporting ./chunked/OpenAI Whisper is every Python developers dream-_xVTgdpokH4.wav_36.wav\n",
            "I am Exporting ./chunked/OpenAI Whisper is every Python developers dream-_xVTgdpokH4.wav_37.wav\n",
            "I am Exporting ./chunked/OpenAI Whisper is every Python developers dream-_xVTgdpokH4.wav_38.wav\n",
            "I am Exporting ./chunked/OpenAI Whisper is every Python developers dream-_xVTgdpokH4.wav_39.wav\n",
            "I am Exporting ./chunked/OpenAI Whisper is every Python developers dream-_xVTgdpokH4.wav_40.wav\n",
            "I am Exporting ./chunked/OpenAI Whisper is every Python developers dream-_xVTgdpokH4.wav_41.wav\n",
            "I am Exporting ./chunked/OpenAI Whisper is every Python developers dream-_xVTgdpokH4.wav_42.wav\n",
            "I am Exporting ./chunked/OpenAI Whisper is every Python developers dream-_xVTgdpokH4.wav_43.wav\n",
            "I am Exporting ./chunked/OpenAI Whisper is every Python developers dream-_xVTgdpokH4.wav_44.wav\n",
            "I am Exporting ./chunked/OpenAI Whisper is every Python developers dream-_xVTgdpokH4.wav_45.wav\n",
            "I am Exporting ./chunked/OpenAI Whisper is every Python developers dream-_xVTgdpokH4.wav_46.wav\n",
            "I am Exporting ./chunked/OpenAI Whisper is every Python developers dream-_xVTgdpokH4.wav_47.wav\n",
            "I am Exporting ./chunked/OpenAI Whisper is every Python developers dream-_xVTgdpokH4.wav_48.wav\n",
            "I am Exporting ./chunked/OpenAI Whisper is every Python developers dream-_xVTgdpokH4.wav_49.wav\n",
            "I am Exporting ./chunked/OpenAI Whisper is every Python developers dream-_xVTgdpokH4.wav_50.wav\n",
            "I am Exporting ./chunked/OpenAI Whisper is every Python developers dream-_xVTgdpokH4.wav_51.wav\n",
            "I am Exporting ./chunked/OpenAI Whisper is every Python developers dream-_xVTgdpokH4.wav_52.wav\n",
            "I am Exporting ./chunked/OpenAI Whisper is every Python developers dream-_xVTgdpokH4.wav_53.wav\n",
            "I am Exporting ./chunked/OpenAI Whisper is every Python developers dream-_xVTgdpokH4.wav_54.wav\n",
            "I am Exporting ./chunked/OpenAI Whisper is every Python developers dream-_xVTgdpokH4.wav_55.wav\n",
            "I am Exporting ./chunked/OpenAI Whisper is every Python developers dream-_xVTgdpokH4.wav_56.wav\n",
            "I am Exporting ./chunked/OpenAI Whisper is every Python developers dream-_xVTgdpokH4.wav_57.wav\n",
            "I am Exporting ./chunked/OpenAI Whisper is every Python developers dream-_xVTgdpokH4.wav_58.wav\n",
            "I am Exporting ./chunked/OpenAI Whisper is every Python developers dream-_xVTgdpokH4.wav_59.wav\n",
            "I am Exporting ./chunked/OpenAI Whisper is every Python developers dream-_xVTgdpokH4.wav_60.wav\n",
            "I dont recognize your audio\n",
            "Whisper is an automatic speech recognition model. It's able to translate and transcribe multiple languages from audio based speech.the model was\n",
            "released by openai at the opening.25 to september 20-22.we picked up the default tots but we can drive the outcome using a couple of key word\n",
            "python.if you want to go ahead and get this until you can type in pippin stall and then pass through getplus and the link to the github repository\n",
            "witches.calling\n",
            "keywords unsummarized:  ['transcription', 'speech recognition model', 'model', 'whisper', 'hindi', 'speech', 'motor', 'fact', 'translation', 'file', 'nick', 'language', 'transcribe', 'french', 'bit']\n",
            "keywords_found in summarized:  ['speech', 'model', 'speech recognition model', 'whisper', 'transcribe']\n",
            "\n",
            "\n",
            "Noun phrases ['speech recognition model', 'model', 'whisper', 'speech']\n",
            "[]\n",
            "['models', 'concept', 'modeling']\n",
            "['whispers', 'whispering', 'whispered']\n",
            "['speeches', 'remarks', 'keynote']\n",
            "Keyboard interruption in main thread... closing server.\n"
          ]
        },
        {
          "output_type": "execute_result",
          "data": {
            "text/plain": [
              "(<gradio.routes.App at 0x7f5814e9db10>,\n",
              " 'http://127.0.0.1:7860/',\n",
              " 'https://d34a35958ee73ff7.gradio.app')"
            ]
          },
          "metadata": {},
          "execution_count": 41
        },
        {
          "output_type": "stream",
          "name": "stdout",
          "text": [
            "time: 3min 33s (started: 2022-10-30 07:30:22 +00:00)\n"
          ]
        }
      ]
    }
  ]
}